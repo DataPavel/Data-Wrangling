{
 "cells": [
  {
   "cell_type": "code",
   "execution_count": 1,
   "id": "3581b4c0",
   "metadata": {},
   "outputs": [],
   "source": [
    "#import libraries\n",
    "import pandas as pd\n",
    "import numpy as np\n",
    "import requests\n",
    "import os\n",
    "import json\n",
    "import matplotlib.pyplot as plt\n",
    "import seaborn as sb\n",
    "\n",
    "%matplotlib inline"
   ]
  },
  {
   "cell_type": "markdown",
   "id": "2bcbfa28",
   "metadata": {},
   "source": [
    "# Gathering data"
   ]
  },
  {
   "cell_type": "markdown",
   "id": "25906678",
   "metadata": {},
   "source": [
    "### Twitter archive"
   ]
  },
  {
   "cell_type": "code",
   "execution_count": 3,
   "id": "5bf7803e",
   "metadata": {},
   "outputs": [],
   "source": [
    "#Read twitter-archive-enhanced dataset from csv\n",
    "archive = pd.read_csv('Data Analyst_project 3\\\\twitter-archive-enhanced.csv')"
   ]
  },
  {
   "cell_type": "markdown",
   "id": "1c1fe6a9",
   "metadata": {},
   "source": [
    "### Image predictions"
   ]
  },
  {
   "cell_type": "code",
   "execution_count": 4,
   "id": "c0adad13",
   "metadata": {},
   "outputs": [],
   "source": [
    "#Storing image-predictions dataset in response variable\n",
    "folder_name = 'image_predictions'\n",
    "if not os.path.exists(folder_name):\n",
    "    os.makedirs(folder_name)\n",
    "url = 'https://d17h27t6h515a5.cloudfront.net/topher/2017/August/599fd2ad_image-predictions/image-predictions.tsv'\n",
    "response = requests.get(url)\n"
   ]
  },
  {
   "cell_type": "code",
   "execution_count": 5,
   "id": "ea5e2532",
   "metadata": {},
   "outputs": [],
   "source": [
    "#Writing the dataset to local file in image-predictions folder\n",
    "with open(os.path.join(folder_name,\n",
    "                      url.split('/')[-1]), mode = 'wb') as file:\n",
    "    file.write(response.content)"
   ]
  },
  {
   "cell_type": "code",
   "execution_count": 7,
   "id": "264464c8",
   "metadata": {},
   "outputs": [],
   "source": [
    "#Read image-predictions dataset from tsv\n",
    "predictions = pd.read_csv('Data Analyst_project 3\\\\image-predictions.tsv',sep = '\\t')"
   ]
  },
  {
   "cell_type": "markdown",
   "id": "c39c92fd",
   "metadata": {},
   "source": [
    "### Twitter API"
   ]
  },
  {
   "cell_type": "code",
   "execution_count": 9,
   "id": "737656d1",
   "metadata": {},
   "outputs": [],
   "source": [
    "#Reading json file\n",
    "json_list = []\n",
    "with open('Data Analyst_project 3\\\\tweet-json.txt') as json_file:\n",
    "    for json_obj in json_file:\n",
    "        json_dict = json.loads(json_obj)\n",
    "        json_list.append(json_dict)"
   ]
  },
  {
   "cell_type": "code",
   "execution_count": 10,
   "id": "78ea2471",
   "metadata": {},
   "outputs": [],
   "source": [
    "#Creating dataframe with tweet_id, retweet-count and favorite-count columns\n",
    "count = pd.DataFrame(json_list, columns =['id_str', 'retweet_count', 'favorite_count'])"
   ]
  },
  {
   "cell_type": "markdown",
   "id": "793cfd6b",
   "metadata": {},
   "source": [
    "# Assess data"
   ]
  },
  {
   "cell_type": "code",
   "execution_count": 11,
   "id": "9f6c3441",
   "metadata": {},
   "outputs": [
    {
     "data": {
      "text/html": [
       "<div>\n",
       "<style scoped>\n",
       "    .dataframe tbody tr th:only-of-type {\n",
       "        vertical-align: middle;\n",
       "    }\n",
       "\n",
       "    .dataframe tbody tr th {\n",
       "        vertical-align: top;\n",
       "    }\n",
       "\n",
       "    .dataframe thead th {\n",
       "        text-align: right;\n",
       "    }\n",
       "</style>\n",
       "<table border=\"1\" class=\"dataframe\">\n",
       "  <thead>\n",
       "    <tr style=\"text-align: right;\">\n",
       "      <th></th>\n",
       "      <th>tweet_id</th>\n",
       "      <th>in_reply_to_status_id</th>\n",
       "      <th>in_reply_to_user_id</th>\n",
       "      <th>timestamp</th>\n",
       "      <th>source</th>\n",
       "      <th>text</th>\n",
       "      <th>retweeted_status_id</th>\n",
       "      <th>retweeted_status_user_id</th>\n",
       "      <th>retweeted_status_timestamp</th>\n",
       "      <th>expanded_urls</th>\n",
       "      <th>rating_numerator</th>\n",
       "      <th>rating_denominator</th>\n",
       "      <th>name</th>\n",
       "      <th>doggo</th>\n",
       "      <th>floofer</th>\n",
       "      <th>pupper</th>\n",
       "      <th>puppo</th>\n",
       "    </tr>\n",
       "  </thead>\n",
       "  <tbody>\n",
       "    <tr>\n",
       "      <th>19</th>\n",
       "      <td>888202515573088257</td>\n",
       "      <td>NaN</td>\n",
       "      <td>NaN</td>\n",
       "      <td>2017-07-21 01:02:36 +0000</td>\n",
       "      <td>&lt;a href=\"http://twitter.com/download/iphone\" r...</td>\n",
       "      <td>RT @dog_rates: This is Canela. She attempted s...</td>\n",
       "      <td>8.874740e+17</td>\n",
       "      <td>4.196984e+09</td>\n",
       "      <td>2017-07-19 00:47:34 +0000</td>\n",
       "      <td>https://twitter.com/dog_rates/status/887473957...</td>\n",
       "      <td>13</td>\n",
       "      <td>10</td>\n",
       "      <td>Canela</td>\n",
       "      <td>None</td>\n",
       "      <td>None</td>\n",
       "      <td>None</td>\n",
       "      <td>None</td>\n",
       "    </tr>\n",
       "    <tr>\n",
       "      <th>32</th>\n",
       "      <td>886054160059072513</td>\n",
       "      <td>NaN</td>\n",
       "      <td>NaN</td>\n",
       "      <td>2017-07-15 02:45:48 +0000</td>\n",
       "      <td>&lt;a href=\"http://twitter.com/download/iphone\" r...</td>\n",
       "      <td>RT @Athletics: 12/10 #BATP https://t.co/WxwJmv...</td>\n",
       "      <td>8.860537e+17</td>\n",
       "      <td>1.960740e+07</td>\n",
       "      <td>2017-07-15 02:44:07 +0000</td>\n",
       "      <td>https://twitter.com/dog_rates/status/886053434...</td>\n",
       "      <td>12</td>\n",
       "      <td>10</td>\n",
       "      <td>None</td>\n",
       "      <td>None</td>\n",
       "      <td>None</td>\n",
       "      <td>None</td>\n",
       "      <td>None</td>\n",
       "    </tr>\n",
       "  </tbody>\n",
       "</table>\n",
       "</div>"
      ],
      "text/plain": [
       "              tweet_id  in_reply_to_status_id  in_reply_to_user_id  \\\n",
       "19  888202515573088257                    NaN                  NaN   \n",
       "32  886054160059072513                    NaN                  NaN   \n",
       "\n",
       "                    timestamp  \\\n",
       "19  2017-07-21 01:02:36 +0000   \n",
       "32  2017-07-15 02:45:48 +0000   \n",
       "\n",
       "                                               source  \\\n",
       "19  <a href=\"http://twitter.com/download/iphone\" r...   \n",
       "32  <a href=\"http://twitter.com/download/iphone\" r...   \n",
       "\n",
       "                                                 text  retweeted_status_id  \\\n",
       "19  RT @dog_rates: This is Canela. She attempted s...         8.874740e+17   \n",
       "32  RT @Athletics: 12/10 #BATP https://t.co/WxwJmv...         8.860537e+17   \n",
       "\n",
       "    retweeted_status_user_id retweeted_status_timestamp  \\\n",
       "19              4.196984e+09  2017-07-19 00:47:34 +0000   \n",
       "32              1.960740e+07  2017-07-15 02:44:07 +0000   \n",
       "\n",
       "                                        expanded_urls  rating_numerator  \\\n",
       "19  https://twitter.com/dog_rates/status/887473957...                13   \n",
       "32  https://twitter.com/dog_rates/status/886053434...                12   \n",
       "\n",
       "    rating_denominator    name doggo floofer pupper puppo  \n",
       "19                  10  Canela  None    None   None  None  \n",
       "32                  10    None  None    None   None  None  "
      ]
     },
     "execution_count": 11,
     "metadata": {},
     "output_type": "execute_result"
    }
   ],
   "source": [
    "#Find rows containing retweets\n",
    "archive[archive['retweeted_status_id'].notnull()].head(2)"
   ]
  },
  {
   "cell_type": "code",
   "execution_count": 12,
   "id": "ed4695eb",
   "metadata": {},
   "outputs": [
    {
     "data": {
      "text/html": [
       "<div>\n",
       "<style scoped>\n",
       "    .dataframe tbody tr th:only-of-type {\n",
       "        vertical-align: middle;\n",
       "    }\n",
       "\n",
       "    .dataframe tbody tr th {\n",
       "        vertical-align: top;\n",
       "    }\n",
       "\n",
       "    .dataframe thead th {\n",
       "        text-align: right;\n",
       "    }\n",
       "</style>\n",
       "<table border=\"1\" class=\"dataframe\">\n",
       "  <thead>\n",
       "    <tr style=\"text-align: right;\">\n",
       "      <th></th>\n",
       "      <th>tweet_id</th>\n",
       "      <th>in_reply_to_status_id</th>\n",
       "      <th>in_reply_to_user_id</th>\n",
       "      <th>timestamp</th>\n",
       "      <th>source</th>\n",
       "      <th>text</th>\n",
       "      <th>retweeted_status_id</th>\n",
       "      <th>retweeted_status_user_id</th>\n",
       "      <th>retweeted_status_timestamp</th>\n",
       "      <th>expanded_urls</th>\n",
       "      <th>rating_numerator</th>\n",
       "      <th>rating_denominator</th>\n",
       "      <th>name</th>\n",
       "      <th>doggo</th>\n",
       "      <th>floofer</th>\n",
       "      <th>pupper</th>\n",
       "      <th>puppo</th>\n",
       "    </tr>\n",
       "  </thead>\n",
       "  <tbody>\n",
       "    <tr>\n",
       "      <th>30</th>\n",
       "      <td>886267009285017600</td>\n",
       "      <td>8.862664e+17</td>\n",
       "      <td>2.281182e+09</td>\n",
       "      <td>2017-07-15 16:51:35 +0000</td>\n",
       "      <td>&lt;a href=\"http://twitter.com/download/iphone\" r...</td>\n",
       "      <td>@NonWhiteHat @MayhewMayhem omg hello tanner yo...</td>\n",
       "      <td>NaN</td>\n",
       "      <td>NaN</td>\n",
       "      <td>NaN</td>\n",
       "      <td>NaN</td>\n",
       "      <td>12</td>\n",
       "      <td>10</td>\n",
       "      <td>None</td>\n",
       "      <td>None</td>\n",
       "      <td>None</td>\n",
       "      <td>None</td>\n",
       "      <td>None</td>\n",
       "    </tr>\n",
       "    <tr>\n",
       "      <th>55</th>\n",
       "      <td>881633300179243008</td>\n",
       "      <td>8.816070e+17</td>\n",
       "      <td>4.738443e+07</td>\n",
       "      <td>2017-07-02 21:58:53 +0000</td>\n",
       "      <td>&lt;a href=\"http://twitter.com/download/iphone\" r...</td>\n",
       "      <td>@roushfenway These are good dogs but 17/10 is ...</td>\n",
       "      <td>NaN</td>\n",
       "      <td>NaN</td>\n",
       "      <td>NaN</td>\n",
       "      <td>NaN</td>\n",
       "      <td>17</td>\n",
       "      <td>10</td>\n",
       "      <td>None</td>\n",
       "      <td>None</td>\n",
       "      <td>None</td>\n",
       "      <td>None</td>\n",
       "      <td>None</td>\n",
       "    </tr>\n",
       "  </tbody>\n",
       "</table>\n",
       "</div>"
      ],
      "text/plain": [
       "              tweet_id  in_reply_to_status_id  in_reply_to_user_id  \\\n",
       "30  886267009285017600           8.862664e+17         2.281182e+09   \n",
       "55  881633300179243008           8.816070e+17         4.738443e+07   \n",
       "\n",
       "                    timestamp  \\\n",
       "30  2017-07-15 16:51:35 +0000   \n",
       "55  2017-07-02 21:58:53 +0000   \n",
       "\n",
       "                                               source  \\\n",
       "30  <a href=\"http://twitter.com/download/iphone\" r...   \n",
       "55  <a href=\"http://twitter.com/download/iphone\" r...   \n",
       "\n",
       "                                                 text  retweeted_status_id  \\\n",
       "30  @NonWhiteHat @MayhewMayhem omg hello tanner yo...                  NaN   \n",
       "55  @roushfenway These are good dogs but 17/10 is ...                  NaN   \n",
       "\n",
       "    retweeted_status_user_id retweeted_status_timestamp expanded_urls  \\\n",
       "30                       NaN                        NaN           NaN   \n",
       "55                       NaN                        NaN           NaN   \n",
       "\n",
       "    rating_numerator  rating_denominator  name doggo floofer pupper puppo  \n",
       "30                12                  10  None  None    None   None  None  \n",
       "55                17                  10  None  None    None   None  None  "
      ]
     },
     "execution_count": 12,
     "metadata": {},
     "output_type": "execute_result"
    }
   ],
   "source": [
    "#Find rows containing responses\n",
    "archive[archive['in_reply_to_status_id'].notnull()].head(2)"
   ]
  },
  {
   "cell_type": "code",
   "execution_count": 13,
   "id": "67b100fc",
   "metadata": {},
   "outputs": [
    {
     "data": {
      "text/plain": [
       "0       2017-08-01 16:23:56 +0000\n",
       "1       2017-08-01 00:17:27 +0000\n",
       "2       2017-07-31 00:18:03 +0000\n",
       "3       2017-07-30 15:58:51 +0000\n",
       "4       2017-07-29 16:00:24 +0000\n",
       "                  ...            \n",
       "2351    2015-11-16 00:24:50 +0000\n",
       "2352    2015-11-16 00:04:52 +0000\n",
       "2353    2015-11-15 23:21:54 +0000\n",
       "2354    2015-11-15 23:05:30 +0000\n",
       "2355    2015-11-15 22:32:08 +0000\n",
       "Name: timestamp, Length: 2356, dtype: object"
      ]
     },
     "execution_count": 13,
     "metadata": {},
     "output_type": "execute_result"
    }
   ],
   "source": [
    "#Look at type of timestamp column\n",
    "archive.timestamp"
   ]
  },
  {
   "cell_type": "code",
   "execution_count": 14,
   "id": "44c5d74b",
   "metadata": {},
   "outputs": [
    {
     "data": {
      "text/plain": [
       "0       https://twitter.com/dog_rates/status/892420643...\n",
       "1       https://twitter.com/dog_rates/status/892177421...\n",
       "2       https://twitter.com/dog_rates/status/891815181...\n",
       "3       https://twitter.com/dog_rates/status/891689557...\n",
       "4       https://twitter.com/dog_rates/status/891327558...\n",
       "                              ...                        \n",
       "2351    https://twitter.com/dog_rates/status/666049248...\n",
       "2352    https://twitter.com/dog_rates/status/666044226...\n",
       "2353    https://twitter.com/dog_rates/status/666033412...\n",
       "2354    https://twitter.com/dog_rates/status/666029285...\n",
       "2355    https://twitter.com/dog_rates/status/666020888...\n",
       "Name: expanded_urls, Length: 2356, dtype: object"
      ]
     },
     "execution_count": 14,
     "metadata": {},
     "output_type": "execute_result"
    }
   ],
   "source": [
    "#Check if there are any duplicated urls\n",
    "archive.expanded_urls"
   ]
  },
  {
   "cell_type": "code",
   "execution_count": 15,
   "id": "9787cf33",
   "metadata": {},
   "outputs": [
    {
     "data": {
      "text/plain": [
       "array([  13,   12,   14,    5,   17,   11,   10,  420,  666,    6,   15,\n",
       "        182,  960,    0,   75,    7,   84,    9,   24,    8,    1,   27,\n",
       "          3,    4,  165, 1776,  204,   50,   99,   80,   45,   60,   44,\n",
       "        143,  121,   20,   26,    2,  144,   88], dtype=int64)"
      ]
     },
     "execution_count": 15,
     "metadata": {},
     "output_type": "execute_result"
    }
   ],
   "source": [
    "#Check if rating-numerator column contain only relevant values\n",
    "archive.rating_numerator.unique()"
   ]
  },
  {
   "cell_type": "code",
   "execution_count": 16,
   "id": "4c46ba8d",
   "metadata": {},
   "outputs": [
    {
     "data": {
      "text/plain": [
       "array([ 10,   0,  15,  70,   7,  11, 150, 170,  20,  50,  90,  80,  40,\n",
       "       130, 110,  16, 120,   2], dtype=int64)"
      ]
     },
     "execution_count": 16,
     "metadata": {},
     "output_type": "execute_result"
    }
   ],
   "source": [
    "#Check if rating-denominator column contain only relevant values\n",
    "archive.rating_denominator.unique()"
   ]
  },
  {
   "cell_type": "code",
   "execution_count": 17,
   "id": "5331f2b0",
   "metadata": {},
   "outputs": [
    {
     "data": {
      "text/html": [
       "<div>\n",
       "<style scoped>\n",
       "    .dataframe tbody tr th:only-of-type {\n",
       "        vertical-align: middle;\n",
       "    }\n",
       "\n",
       "    .dataframe tbody tr th {\n",
       "        vertical-align: top;\n",
       "    }\n",
       "\n",
       "    .dataframe thead th {\n",
       "        text-align: right;\n",
       "    }\n",
       "</style>\n",
       "<table border=\"1\" class=\"dataframe\">\n",
       "  <thead>\n",
       "    <tr style=\"text-align: right;\">\n",
       "      <th></th>\n",
       "      <th>tweet_id</th>\n",
       "      <th>jpg_url</th>\n",
       "      <th>img_num</th>\n",
       "      <th>p1</th>\n",
       "      <th>p1_conf</th>\n",
       "      <th>p1_dog</th>\n",
       "      <th>p2</th>\n",
       "      <th>p2_conf</th>\n",
       "      <th>p2_dog</th>\n",
       "      <th>p3</th>\n",
       "      <th>p3_conf</th>\n",
       "      <th>p3_dog</th>\n",
       "    </tr>\n",
       "  </thead>\n",
       "  <tbody>\n",
       "    <tr>\n",
       "      <th>6</th>\n",
       "      <td>666051853826850816</td>\n",
       "      <td>https://pbs.twimg.com/media/CT5KoJ1WoAAJash.jpg</td>\n",
       "      <td>1</td>\n",
       "      <td>box_turtle</td>\n",
       "      <td>0.933012</td>\n",
       "      <td>False</td>\n",
       "      <td>mud_turtle</td>\n",
       "      <td>0.045885</td>\n",
       "      <td>False</td>\n",
       "      <td>terrapin</td>\n",
       "      <td>0.017885</td>\n",
       "      <td>False</td>\n",
       "    </tr>\n",
       "    <tr>\n",
       "      <th>8</th>\n",
       "      <td>666057090499244032</td>\n",
       "      <td>https://pbs.twimg.com/media/CT5PY90WoAAQGLo.jpg</td>\n",
       "      <td>1</td>\n",
       "      <td>shopping_cart</td>\n",
       "      <td>0.962465</td>\n",
       "      <td>False</td>\n",
       "      <td>shopping_basket</td>\n",
       "      <td>0.014594</td>\n",
       "      <td>False</td>\n",
       "      <td>golden_retriever</td>\n",
       "      <td>0.007959</td>\n",
       "      <td>True</td>\n",
       "    </tr>\n",
       "    <tr>\n",
       "      <th>17</th>\n",
       "      <td>666104133288665088</td>\n",
       "      <td>https://pbs.twimg.com/media/CT56LSZWoAAlJj2.jpg</td>\n",
       "      <td>1</td>\n",
       "      <td>hen</td>\n",
       "      <td>0.965932</td>\n",
       "      <td>False</td>\n",
       "      <td>cock</td>\n",
       "      <td>0.033919</td>\n",
       "      <td>False</td>\n",
       "      <td>partridge</td>\n",
       "      <td>0.000052</td>\n",
       "      <td>False</td>\n",
       "    </tr>\n",
       "    <tr>\n",
       "      <th>18</th>\n",
       "      <td>666268910803644416</td>\n",
       "      <td>https://pbs.twimg.com/media/CT8QCd1WEAADXws.jpg</td>\n",
       "      <td>1</td>\n",
       "      <td>desktop_computer</td>\n",
       "      <td>0.086502</td>\n",
       "      <td>False</td>\n",
       "      <td>desk</td>\n",
       "      <td>0.085547</td>\n",
       "      <td>False</td>\n",
       "      <td>bookcase</td>\n",
       "      <td>0.079480</td>\n",
       "      <td>False</td>\n",
       "    </tr>\n",
       "    <tr>\n",
       "      <th>21</th>\n",
       "      <td>666293911632134144</td>\n",
       "      <td>https://pbs.twimg.com/media/CT8mx7KW4AEQu8N.jpg</td>\n",
       "      <td>1</td>\n",
       "      <td>three-toed_sloth</td>\n",
       "      <td>0.914671</td>\n",
       "      <td>False</td>\n",
       "      <td>otter</td>\n",
       "      <td>0.015250</td>\n",
       "      <td>False</td>\n",
       "      <td>great_grey_owl</td>\n",
       "      <td>0.013207</td>\n",
       "      <td>False</td>\n",
       "    </tr>\n",
       "    <tr>\n",
       "      <th>...</th>\n",
       "      <td>...</td>\n",
       "      <td>...</td>\n",
       "      <td>...</td>\n",
       "      <td>...</td>\n",
       "      <td>...</td>\n",
       "      <td>...</td>\n",
       "      <td>...</td>\n",
       "      <td>...</td>\n",
       "      <td>...</td>\n",
       "      <td>...</td>\n",
       "      <td>...</td>\n",
       "      <td>...</td>\n",
       "    </tr>\n",
       "    <tr>\n",
       "      <th>2026</th>\n",
       "      <td>882045870035918850</td>\n",
       "      <td>https://pbs.twimg.com/media/DD2oCl2WAAEI_4a.jpg</td>\n",
       "      <td>1</td>\n",
       "      <td>web_site</td>\n",
       "      <td>0.949591</td>\n",
       "      <td>False</td>\n",
       "      <td>dhole</td>\n",
       "      <td>0.017326</td>\n",
       "      <td>False</td>\n",
       "      <td>golden_retriever</td>\n",
       "      <td>0.006941</td>\n",
       "      <td>True</td>\n",
       "    </tr>\n",
       "    <tr>\n",
       "      <th>2046</th>\n",
       "      <td>886680336477933568</td>\n",
       "      <td>https://pbs.twimg.com/media/DE4fEDzWAAAyHMM.jpg</td>\n",
       "      <td>1</td>\n",
       "      <td>convertible</td>\n",
       "      <td>0.738995</td>\n",
       "      <td>False</td>\n",
       "      <td>sports_car</td>\n",
       "      <td>0.139952</td>\n",
       "      <td>False</td>\n",
       "      <td>car_wheel</td>\n",
       "      <td>0.044173</td>\n",
       "      <td>False</td>\n",
       "    </tr>\n",
       "    <tr>\n",
       "      <th>2052</th>\n",
       "      <td>887517139158093824</td>\n",
       "      <td>https://pbs.twimg.com/ext_tw_video_thumb/88751...</td>\n",
       "      <td>1</td>\n",
       "      <td>limousine</td>\n",
       "      <td>0.130432</td>\n",
       "      <td>False</td>\n",
       "      <td>tow_truck</td>\n",
       "      <td>0.029175</td>\n",
       "      <td>False</td>\n",
       "      <td>shopping_cart</td>\n",
       "      <td>0.026321</td>\n",
       "      <td>False</td>\n",
       "    </tr>\n",
       "    <tr>\n",
       "      <th>2071</th>\n",
       "      <td>891689557279858688</td>\n",
       "      <td>https://pbs.twimg.com/media/DF_q7IAWsAEuuN8.jpg</td>\n",
       "      <td>1</td>\n",
       "      <td>paper_towel</td>\n",
       "      <td>0.170278</td>\n",
       "      <td>False</td>\n",
       "      <td>Labrador_retriever</td>\n",
       "      <td>0.168086</td>\n",
       "      <td>True</td>\n",
       "      <td>spatula</td>\n",
       "      <td>0.040836</td>\n",
       "      <td>False</td>\n",
       "    </tr>\n",
       "    <tr>\n",
       "      <th>2074</th>\n",
       "      <td>892420643555336193</td>\n",
       "      <td>https://pbs.twimg.com/media/DGKD1-bXoAAIAUK.jpg</td>\n",
       "      <td>1</td>\n",
       "      <td>orange</td>\n",
       "      <td>0.097049</td>\n",
       "      <td>False</td>\n",
       "      <td>bagel</td>\n",
       "      <td>0.085851</td>\n",
       "      <td>False</td>\n",
       "      <td>banana</td>\n",
       "      <td>0.076110</td>\n",
       "      <td>False</td>\n",
       "    </tr>\n",
       "  </tbody>\n",
       "</table>\n",
       "<p>543 rows × 12 columns</p>\n",
       "</div>"
      ],
      "text/plain": [
       "                tweet_id                                            jpg_url  \\\n",
       "6     666051853826850816    https://pbs.twimg.com/media/CT5KoJ1WoAAJash.jpg   \n",
       "8     666057090499244032    https://pbs.twimg.com/media/CT5PY90WoAAQGLo.jpg   \n",
       "17    666104133288665088    https://pbs.twimg.com/media/CT56LSZWoAAlJj2.jpg   \n",
       "18    666268910803644416    https://pbs.twimg.com/media/CT8QCd1WEAADXws.jpg   \n",
       "21    666293911632134144    https://pbs.twimg.com/media/CT8mx7KW4AEQu8N.jpg   \n",
       "...                  ...                                                ...   \n",
       "2026  882045870035918850    https://pbs.twimg.com/media/DD2oCl2WAAEI_4a.jpg   \n",
       "2046  886680336477933568    https://pbs.twimg.com/media/DE4fEDzWAAAyHMM.jpg   \n",
       "2052  887517139158093824  https://pbs.twimg.com/ext_tw_video_thumb/88751...   \n",
       "2071  891689557279858688    https://pbs.twimg.com/media/DF_q7IAWsAEuuN8.jpg   \n",
       "2074  892420643555336193    https://pbs.twimg.com/media/DGKD1-bXoAAIAUK.jpg   \n",
       "\n",
       "      img_num                p1   p1_conf  p1_dog                  p2  \\\n",
       "6           1        box_turtle  0.933012   False          mud_turtle   \n",
       "8           1     shopping_cart  0.962465   False     shopping_basket   \n",
       "17          1               hen  0.965932   False                cock   \n",
       "18          1  desktop_computer  0.086502   False                desk   \n",
       "21          1  three-toed_sloth  0.914671   False               otter   \n",
       "...       ...               ...       ...     ...                 ...   \n",
       "2026        1          web_site  0.949591   False               dhole   \n",
       "2046        1       convertible  0.738995   False          sports_car   \n",
       "2052        1         limousine  0.130432   False           tow_truck   \n",
       "2071        1       paper_towel  0.170278   False  Labrador_retriever   \n",
       "2074        1            orange  0.097049   False               bagel   \n",
       "\n",
       "       p2_conf  p2_dog                p3   p3_conf  p3_dog  \n",
       "6     0.045885   False          terrapin  0.017885   False  \n",
       "8     0.014594   False  golden_retriever  0.007959    True  \n",
       "17    0.033919   False         partridge  0.000052   False  \n",
       "18    0.085547   False          bookcase  0.079480   False  \n",
       "21    0.015250   False    great_grey_owl  0.013207   False  \n",
       "...        ...     ...               ...       ...     ...  \n",
       "2026  0.017326   False  golden_retriever  0.006941    True  \n",
       "2046  0.139952   False         car_wheel  0.044173   False  \n",
       "2052  0.029175   False     shopping_cart  0.026321   False  \n",
       "2071  0.168086    True           spatula  0.040836   False  \n",
       "2074  0.085851   False            banana  0.076110   False  \n",
       "\n",
       "[543 rows x 12 columns]"
      ]
     },
     "execution_count": 17,
     "metadata": {},
     "output_type": "execute_result"
    }
   ],
   "source": [
    "#Check for False in column p1_dog\n",
    "predictions.query('p1_dog == False')"
   ]
  },
  {
   "cell_type": "code",
   "execution_count": 18,
   "id": "0132faee",
   "metadata": {},
   "outputs": [
    {
     "data": {
      "text/plain": [
       "array(['Welsh_springer_spaniel', 'redbone', 'German_shepherd',\n",
       "       'Rhodesian_ridgeback', 'miniature_pinscher',\n",
       "       'Bernese_mountain_dog', 'chow', 'miniature_poodle',\n",
       "       'golden_retriever', 'Gordon_setter', 'Walker_hound', 'pug',\n",
       "       'bloodhound', 'Lhasa', 'English_setter', 'Italian_greyhound',\n",
       "       'Maltese_dog', 'malamute', 'soft-coated_wheaten_terrier',\n",
       "       'Chihuahua', 'black-and-tan_coonhound', 'toy_terrier',\n",
       "       'Blenheim_spaniel', 'Pembroke', 'Chesapeake_Bay_retriever',\n",
       "       'curly-coated_retriever', 'dalmatian', 'Ibizan_hound',\n",
       "       'Border_collie', 'Labrador_retriever', 'miniature_schnauzer',\n",
       "       'Airedale', 'West_Highland_white_terrier', 'toy_poodle',\n",
       "       'giant_schnauzer', 'vizsla', 'Rottweiler', 'Siberian_husky',\n",
       "       'papillon', 'Saint_Bernard', 'Tibetan_terrier', 'borzoi', 'beagle',\n",
       "       'Yorkshire_terrier', 'Pomeranian', 'kuvasz',\n",
       "       'flat-coated_retriever', 'Norwegian_elkhound', 'standard_poodle',\n",
       "       'Staffordshire_bullterrier', 'basenji', 'Lakeland_terrier',\n",
       "       'American_Staffordshire_terrier', 'Shih-Tzu', 'French_bulldog',\n",
       "       'Pekinese', 'komondor', 'malinois', 'kelpie', 'Brittany_spaniel',\n",
       "       'cocker_spaniel', 'basset', 'Brabancon_griffon', 'Eskimo_dog',\n",
       "       'German_short-haired_pointer', 'Shetland_sheepdog',\n",
       "       'Irish_terrier', 'cairn', 'English_springer', 'whippet',\n",
       "       'Sussex_spaniel', 'Dandie_Dinmont', 'Norwich_terrier', 'keeshond',\n",
       "       'Norfolk_terrier', 'Old_English_sheepdog', 'Samoyed', 'Doberman',\n",
       "       'Great_Pyrenees', 'schipperke', 'Newfoundland', 'bull_mastiff',\n",
       "       'collie', 'Cardigan', 'Greater_Swiss_Mountain_dog', 'boxer',\n",
       "       'Scottish_deerhound', 'standard_schnauzer', 'Irish_water_spaniel',\n",
       "       'Boston_bull', 'Japanese_spaniel', 'EntleBucher', 'bluetick',\n",
       "       'Irish_setter', 'Leonberg', 'Weimaraner', 'Great_Dane',\n",
       "       'Tibetan_mastiff', 'Scotch_terrier', 'Mexican_hairless',\n",
       "       'groenendael', 'Australian_terrier', 'briard', 'Appenzeller',\n",
       "       'Border_terrier', 'Bedlington_terrier', 'wire-haired_fox_terrier',\n",
       "       'Saluki', 'silky_terrier', 'Afghan_hound', 'clumber'], dtype=object)"
      ]
     },
     "execution_count": 18,
     "metadata": {},
     "output_type": "execute_result"
    }
   ],
   "source": [
    "#Look at breed of dogs\n",
    "predictions.query('p1_dog == True')['p1'].unique()"
   ]
  },
  {
   "cell_type": "markdown",
   "id": "5f175e65",
   "metadata": {},
   "source": [
    "##### Quality\n",
    "###### archive dataset\n",
    "\n",
    "- Some tweets in the archive dataset are actually retweets\n",
    "- Some tweets are replies to other tweets\n",
    "- column timestamp type is object\n",
    "- duplicated URL in expanded_urls column\n",
    "- columns doggo, floofer, pupper, puppo contain string *None* instead of NaN\n",
    "- rating_numerator column coltains wrong values indices here([ 339,  403,  528,  700,  770,  904,  985, 1011, 1036, 1056, 1129, 1210, 1399, 1474, 1540, 1602, 1821, 4780]\n",
    "- missing values in extended_urls column \n",
    "- *tweet_id* column as integer not string\n",
    "\n",
    "\n",
    "\n",
    "\n",
    "###### predictions dataset\n",
    "\n",
    "- an algorithm recognises something else instead of breed of dog\n",
    "- column 'p1' some breeds start with upper letter while others start with lower letter, *_* split the words in breed\n",
    "- *tweet_id* column as integer not string\n",
    "\n",
    "###### count dataset\n",
    "- column *tweet_id* is named str_id\n",
    "\n",
    "\n",
    "\n",
    "##### Tidyness\n",
    "###### archive dataset\n",
    "\n",
    "- one variable in 4 columns (doggo, floofer, pupper, puppo)\n",
    "- all 3 data sets should be combined in one\n",
    "- remove unnecessary columns (*in_reply_to_status_id*, *in_reply_to_user_id*, *retweeted_status_user_id*, *retweeted_status_timestamp* will not be useful for my analysis)\n",
    "- two columns for one value *rating*: Rating numerator and rating denominator"
   ]
  },
  {
   "cell_type": "markdown",
   "id": "7fcc794f",
   "metadata": {},
   "source": [
    "# Clean"
   ]
  },
  {
   "cell_type": "code",
   "execution_count": 73,
   "id": "5da88fd4",
   "metadata": {},
   "outputs": [],
   "source": [
    "#Create copies of original datasets\n",
    "archive_clean = archive.copy()\n",
    "predictions_clean = predictions.copy()\n",
    "count_clean = count.copy()"
   ]
  },
  {
   "cell_type": "markdown",
   "id": "1a6cdd76",
   "metadata": {},
   "source": [
    "###### Some tweets in the archive dataset are actually retweets"
   ]
  },
  {
   "cell_type": "markdown",
   "id": "55ed5b8e",
   "metadata": {},
   "source": [
    "###### Define\n",
    "Drop rows with non null values in retweeted_status_id"
   ]
  },
  {
   "cell_type": "markdown",
   "id": "da468de0",
   "metadata": {},
   "source": [
    "###### Code"
   ]
  },
  {
   "cell_type": "code",
   "execution_count": 74,
   "id": "43ac4990",
   "metadata": {},
   "outputs": [],
   "source": [
    "#Filter archive_clean data set where values in column 'retweet_status_id' equal to null\n",
    "archive_clean = archive_clean[archive_clean['retweeted_status_id'].isnull()]"
   ]
  },
  {
   "cell_type": "markdown",
   "id": "52ac2b1c",
   "metadata": {},
   "source": [
    "###### Test"
   ]
  },
  {
   "cell_type": "code",
   "execution_count": 75,
   "id": "85d20460",
   "metadata": {},
   "outputs": [
    {
     "data": {
      "text/plain": [
       "0"
      ]
     },
     "execution_count": 75,
     "metadata": {},
     "output_type": "execute_result"
    }
   ],
   "source": [
    "#count null values in column 'retweeted_status_id'\n",
    "archive_clean.retweeted_status_id.count()"
   ]
  },
  {
   "cell_type": "markdown",
   "id": "3907dd76",
   "metadata": {},
   "source": [
    "###### Some tweets are replies to other tweets"
   ]
  },
  {
   "cell_type": "markdown",
   "id": "379018fd",
   "metadata": {},
   "source": [
    "###### Define\n",
    "Drop rows with non null values in in_reply_to_status_id"
   ]
  },
  {
   "cell_type": "markdown",
   "id": "1ff1c7ca",
   "metadata": {},
   "source": [
    "###### Code"
   ]
  },
  {
   "cell_type": "code",
   "execution_count": 76,
   "id": "6ca3127e",
   "metadata": {},
   "outputs": [],
   "source": [
    "#Filter archive_clean data set where values in column 'in_reply_to_status_id' equal to null\n",
    "archive_clean = archive_clean[archive_clean['in_reply_to_status_id'].isnull()]"
   ]
  },
  {
   "cell_type": "markdown",
   "id": "3ce7db23",
   "metadata": {},
   "source": [
    "###### Test"
   ]
  },
  {
   "cell_type": "code",
   "execution_count": 77,
   "id": "027b28a7",
   "metadata": {},
   "outputs": [
    {
     "data": {
      "text/plain": [
       "0"
      ]
     },
     "execution_count": 77,
     "metadata": {},
     "output_type": "execute_result"
    }
   ],
   "source": [
    "#count null values in column 'in_reply_to_status_id'\n",
    "archive_clean.in_reply_to_status_id.count()"
   ]
  },
  {
   "cell_type": "markdown",
   "id": "2525b3ba",
   "metadata": {},
   "source": [
    "##### remove unnecessary columns (*in_reply_to_status_id*, *in_reply_to_user_id*, *retweeted_status_id*, *retweeted_status_user_id*, *retweeted_status_timestamp* will not be useful for my analysis)"
   ]
  },
  {
   "cell_type": "markdown",
   "id": "4c730e6e",
   "metadata": {},
   "source": [
    "###### Define\n",
    "Drop following columns from archive_clean:  \n",
    "'in_reply_to_status_id', 'in_reply_to_user_id', 'retweeted_status_id', 'retweeted_status_user_id', 'retweeted_status_timestamp'"
   ]
  },
  {
   "cell_type": "markdown",
   "id": "b1c1c9e0",
   "metadata": {},
   "source": [
    "###### Code"
   ]
  },
  {
   "cell_type": "code",
   "execution_count": 78,
   "id": "881e332f",
   "metadata": {},
   "outputs": [],
   "source": [
    "#Drop columns\n",
    "archive_clean = archive_clean.drop(['in_reply_to_status_id', 'in_reply_to_user_id', 'retweeted_status_id', 'retweeted_status_user_id', 'retweeted_status_timestamp', 'source'], axis = 1)"
   ]
  },
  {
   "cell_type": "markdown",
   "id": "8f961db5",
   "metadata": {},
   "source": [
    "###### Test"
   ]
  },
  {
   "cell_type": "code",
   "execution_count": 79,
   "id": "0eabdbbf",
   "metadata": {},
   "outputs": [
    {
     "data": {
      "text/html": [
       "<div>\n",
       "<style scoped>\n",
       "    .dataframe tbody tr th:only-of-type {\n",
       "        vertical-align: middle;\n",
       "    }\n",
       "\n",
       "    .dataframe tbody tr th {\n",
       "        vertical-align: top;\n",
       "    }\n",
       "\n",
       "    .dataframe thead th {\n",
       "        text-align: right;\n",
       "    }\n",
       "</style>\n",
       "<table border=\"1\" class=\"dataframe\">\n",
       "  <thead>\n",
       "    <tr style=\"text-align: right;\">\n",
       "      <th></th>\n",
       "      <th>tweet_id</th>\n",
       "      <th>timestamp</th>\n",
       "      <th>text</th>\n",
       "      <th>expanded_urls</th>\n",
       "      <th>rating_numerator</th>\n",
       "      <th>rating_denominator</th>\n",
       "      <th>name</th>\n",
       "      <th>doggo</th>\n",
       "      <th>floofer</th>\n",
       "      <th>pupper</th>\n",
       "      <th>puppo</th>\n",
       "    </tr>\n",
       "  </thead>\n",
       "  <tbody>\n",
       "    <tr>\n",
       "      <th>0</th>\n",
       "      <td>892420643555336193</td>\n",
       "      <td>2017-08-01 16:23:56 +0000</td>\n",
       "      <td>This is Phineas. He's a mystical boy. Only ever appears in the hole of a donut. 13/10 https://t.co/MgUWQ76dJU</td>\n",
       "      <td>https://twitter.com/dog_rates/status/892420643555336193/photo/1</td>\n",
       "      <td>13</td>\n",
       "      <td>10</td>\n",
       "      <td>Phineas</td>\n",
       "      <td>None</td>\n",
       "      <td>None</td>\n",
       "      <td>None</td>\n",
       "      <td>None</td>\n",
       "    </tr>\n",
       "  </tbody>\n",
       "</table>\n",
       "</div>"
      ],
      "text/plain": [
       "             tweet_id                  timestamp  \\\n",
       "0  892420643555336193  2017-08-01 16:23:56 +0000   \n",
       "\n",
       "                                                                                                            text  \\\n",
       "0  This is Phineas. He's a mystical boy. Only ever appears in the hole of a donut. 13/10 https://t.co/MgUWQ76dJU   \n",
       "\n",
       "                                                     expanded_urls  \\\n",
       "0  https://twitter.com/dog_rates/status/892420643555336193/photo/1   \n",
       "\n",
       "   rating_numerator  rating_denominator     name doggo floofer pupper puppo  \n",
       "0                13                  10  Phineas  None    None   None  None  "
      ]
     },
     "execution_count": 79,
     "metadata": {},
     "output_type": "execute_result"
    }
   ],
   "source": [
    "#Display the first row\n",
    "archive_clean.head(1)"
   ]
  },
  {
   "cell_type": "markdown",
   "id": "05ec6c19",
   "metadata": {},
   "source": [
    "##### one variable in 4 columns (doggo, floofer, pupper, puppo)"
   ]
  },
  {
   "cell_type": "markdown",
   "id": "7daed1b4",
   "metadata": {},
   "source": [
    "###### Define\n",
    "Melt the *doggo*, *floofer*, *pupper* and *puppo* columns to a *stage* column. Since we have *None* strings in all columns, I will replace non-duplicate values with *missing* string by finding indecies with non-duplicate missing values and then iterate through the indecies to make replacements."
   ]
  },
  {
   "cell_type": "markdown",
   "id": "4eb9e8cd",
   "metadata": {},
   "source": [
    "###### Code"
   ]
  },
  {
   "cell_type": "code",
   "execution_count": 80,
   "id": "222426b0",
   "metadata": {},
   "outputs": [],
   "source": [
    "#Create list of indecies of non-duplicated missing values\n",
    "missing_values = archive_clean.query('doggo != \"doggo\" & floofer != \"floofer\" & pupper != \"pupper\" & puppo != \"puppo\"').index"
   ]
  },
  {
   "cell_type": "code",
   "execution_count": 81,
   "id": "2e7e7d25",
   "metadata": {},
   "outputs": [],
   "source": [
    "#iterate through indecies and replace values in column 'doggo' with 'missing'\n",
    "for i in missing_values:\n",
    "    archive_clean.loc[i,'doggo'] = 'missing'"
   ]
  },
  {
   "cell_type": "code",
   "execution_count": 82,
   "id": "45d11c72",
   "metadata": {},
   "outputs": [
    {
     "data": {
      "text/plain": [
       "Index(['tweet_id', 'timestamp', 'text', 'expanded_urls', 'rating_numerator',\n",
       "       'rating_denominator', 'name', 'doggo', 'floofer', 'pupper', 'puppo'],\n",
       "      dtype='object')"
      ]
     },
     "execution_count": 82,
     "metadata": {},
     "output_type": "execute_result"
    }
   ],
   "source": [
    "#display column names\n",
    "archive_clean.columns"
   ]
  },
  {
   "cell_type": "code",
   "execution_count": 83,
   "id": "081b3355",
   "metadata": {},
   "outputs": [],
   "source": [
    "#Reshape the last 4 columns to one column\n",
    "archive_clean = pd.melt(archive_clean, id_vars=['tweet_id', 'timestamp', 'text', 'expanded_urls',\n",
    "                                                   'rating_numerator', 'rating_denominator', 'name'], var_name='stage_name', value_name = 'stage')"
   ]
  },
  {
   "cell_type": "code",
   "execution_count": 84,
   "id": "06990b73",
   "metadata": {},
   "outputs": [],
   "source": [
    "#Remove duplicated rows\n",
    "archive_clean = archive_clean.query('stage != \"None\"')\n",
    "archive_clean.drop(['stage_name'], axis = 1, inplace = True)"
   ]
  },
  {
   "cell_type": "markdown",
   "id": "d212656d",
   "metadata": {},
   "source": [
    "###### Test"
   ]
  },
  {
   "cell_type": "code",
   "execution_count": 85,
   "id": "90a0b90f",
   "metadata": {},
   "outputs": [
    {
     "data": {
      "text/plain": [
       "missing    1761\n",
       "pupper      230\n",
       "doggo        83\n",
       "puppo        24\n",
       "floofer      10\n",
       "Name: stage, dtype: int64"
      ]
     },
     "execution_count": 85,
     "metadata": {},
     "output_type": "execute_result"
    }
   ],
   "source": [
    "archive_clean.stage.value_counts()"
   ]
  },
  {
   "cell_type": "markdown",
   "id": "f49963ec",
   "metadata": {},
   "source": [
    "##### column timestamp type is object"
   ]
  },
  {
   "cell_type": "markdown",
   "id": "ab336d50",
   "metadata": {},
   "source": [
    "###### Define\n",
    "Convert *timestamp* column to datetime format"
   ]
  },
  {
   "cell_type": "markdown",
   "id": "d26574e6",
   "metadata": {},
   "source": [
    "###### Code"
   ]
  },
  {
   "cell_type": "code",
   "execution_count": 86,
   "id": "16482f4e",
   "metadata": {},
   "outputs": [],
   "source": [
    "#Convert timestamp column to datetime\n",
    "archive_clean['timestamp'] = pd.to_datetime(archive_clean['timestamp'])"
   ]
  },
  {
   "cell_type": "markdown",
   "id": "3b679c77",
   "metadata": {},
   "source": [
    "###### Test"
   ]
  },
  {
   "cell_type": "code",
   "execution_count": 87,
   "id": "2329ae94",
   "metadata": {},
   "outputs": [
    {
     "name": "stdout",
     "output_type": "stream",
     "text": [
      "<class 'pandas.core.frame.DataFrame'>\n",
      "Int64Index: 2108 entries, 0 to 7158\n",
      "Data columns (total 8 columns):\n",
      " #   Column              Non-Null Count  Dtype              \n",
      "---  ------              --------------  -----              \n",
      " 0   tweet_id            2108 non-null   int64              \n",
      " 1   timestamp           2108 non-null   datetime64[ns, UTC]\n",
      " 2   text                2108 non-null   object             \n",
      " 3   expanded_urls       2105 non-null   object             \n",
      " 4   rating_numerator    2108 non-null   int64              \n",
      " 5   rating_denominator  2108 non-null   int64              \n",
      " 6   name                2108 non-null   object             \n",
      " 7   stage               2108 non-null   object             \n",
      "dtypes: datetime64[ns, UTC](1), int64(3), object(4)\n",
      "memory usage: 148.2+ KB\n"
     ]
    }
   ],
   "source": [
    "#Display type of columns\n",
    "archive_clean.info()"
   ]
  },
  {
   "cell_type": "markdown",
   "id": "7d29c49a",
   "metadata": {},
   "source": [
    "###### duplicated URL in *expanded_urls* column"
   ]
  },
  {
   "cell_type": "markdown",
   "id": "617342a0",
   "metadata": {},
   "source": [
    "###### Define\n",
    "Split duplicated URLs by ',' and keep the first occurence"
   ]
  },
  {
   "cell_type": "markdown",
   "id": "b9031458",
   "metadata": {},
   "source": [
    "###### Code"
   ]
  },
  {
   "cell_type": "code",
   "execution_count": 88,
   "id": "5fe4e00f",
   "metadata": {},
   "outputs": [],
   "source": [
    "#split duplicated URLs\n",
    "archive_clean['expanded_urls'] = archive_clean['expanded_urls'].str.split(',', expand = True,)[0]"
   ]
  },
  {
   "cell_type": "markdown",
   "id": "8a5410f7",
   "metadata": {},
   "source": [
    "###### Test"
   ]
  },
  {
   "cell_type": "code",
   "execution_count": 89,
   "id": "5c072c0c",
   "metadata": {},
   "outputs": [
    {
     "data": {
      "text/plain": [
       "'https://twitter.com/dog_rates/status/891327558926688256/photo/1'"
      ]
     },
     "execution_count": 89,
     "metadata": {},
     "output_type": "execute_result"
    }
   ],
   "source": [
    "#Display max width of column\n",
    "pd.set_option('display.max_colwidth', None)\n",
    "#Check if URL under index 4 is duplicated\n",
    "archive_clean.expanded_urls[4]"
   ]
  },
  {
   "cell_type": "markdown",
   "id": "3c2b33a1",
   "metadata": {},
   "source": [
    "###### column with doggo, floofer, pupper, puppo contain string *None* instead of NaN"
   ]
  },
  {
   "cell_type": "markdown",
   "id": "a60616a5",
   "metadata": {},
   "source": [
    "###### Define  \n",
    "Replace string *missing* with *NaN* in *stage* column"
   ]
  },
  {
   "cell_type": "markdown",
   "id": "3bc7babe",
   "metadata": {},
   "source": [
    "###### Code"
   ]
  },
  {
   "cell_type": "code",
   "execution_count": 90,
   "id": "d04c5292",
   "metadata": {},
   "outputs": [],
   "source": [
    "#Replace missing with NaN\n",
    "archive_clean['stage'] = archive_clean.stage.replace({'missing' : np.nan})"
   ]
  },
  {
   "cell_type": "markdown",
   "id": "af33b302",
   "metadata": {},
   "source": [
    "###### Test"
   ]
  },
  {
   "cell_type": "code",
   "execution_count": 91,
   "id": "09146674",
   "metadata": {},
   "outputs": [
    {
     "name": "stdout",
     "output_type": "stream",
     "text": [
      "<class 'pandas.core.frame.DataFrame'>\n",
      "Int64Index: 2108 entries, 0 to 7158\n",
      "Data columns (total 8 columns):\n",
      " #   Column              Non-Null Count  Dtype              \n",
      "---  ------              --------------  -----              \n",
      " 0   tweet_id            2108 non-null   int64              \n",
      " 1   timestamp           2108 non-null   datetime64[ns, UTC]\n",
      " 2   text                2108 non-null   object             \n",
      " 3   expanded_urls       2105 non-null   object             \n",
      " 4   rating_numerator    2108 non-null   int64              \n",
      " 5   rating_denominator  2108 non-null   int64              \n",
      " 6   name                2108 non-null   object             \n",
      " 7   stage               347 non-null    object             \n",
      "dtypes: datetime64[ns, UTC](1), int64(3), object(4)\n",
      "memory usage: 212.8+ KB\n"
     ]
    }
   ],
   "source": [
    "#Lookup for NaN values in column 'stage'\n",
    "archive_clean.info()"
   ]
  },
  {
   "cell_type": "markdown",
   "id": "3e195390",
   "metadata": {},
   "source": [
    "###### rating_numerator column coltains large numbers (666)"
   ]
  },
  {
   "cell_type": "markdown",
   "id": "53e68c82",
   "metadata": {},
   "source": [
    "###### Define\n",
    "I could not find progrommatical solution to correct rating numerators, so I will do it manually one by one  \n",
    "First, i display numerators that are greater than 15\n",
    "Then I look at each each row and replace them with appropriate value"
   ]
  },
  {
   "cell_type": "markdown",
   "id": "5631e581",
   "metadata": {},
   "source": [
    "###### Code"
   ]
  },
  {
   "cell_type": "code",
   "execution_count": 92,
   "id": "4c442ca0",
   "metadata": {},
   "outputs": [
    {
     "data": {
      "text/html": [
       "<div>\n",
       "<style scoped>\n",
       "    .dataframe tbody tr th:only-of-type {\n",
       "        vertical-align: middle;\n",
       "    }\n",
       "\n",
       "    .dataframe tbody tr th {\n",
       "        vertical-align: top;\n",
       "    }\n",
       "\n",
       "    .dataframe thead th {\n",
       "        text-align: right;\n",
       "    }\n",
       "</style>\n",
       "<table border=\"1\" class=\"dataframe\">\n",
       "  <thead>\n",
       "    <tr style=\"text-align: right;\">\n",
       "      <th></th>\n",
       "      <th>tweet_id</th>\n",
       "      <th>timestamp</th>\n",
       "      <th>text</th>\n",
       "      <th>expanded_urls</th>\n",
       "      <th>rating_numerator</th>\n",
       "      <th>rating_denominator</th>\n",
       "      <th>name</th>\n",
       "      <th>stage</th>\n",
       "    </tr>\n",
       "  </thead>\n",
       "  <tbody>\n",
       "    <tr>\n",
       "      <th>339</th>\n",
       "      <td>820690176645140481</td>\n",
       "      <td>2017-01-15 17:52:40+00:00</td>\n",
       "      <td>The floofs have been released I repeat the floofs have been released. 84/70 https://t.co/NIYC820tmd</td>\n",
       "      <td>https://twitter.com/dog_rates/status/820690176645140481/photo/1</td>\n",
       "      <td>84</td>\n",
       "      <td>70</td>\n",
       "      <td>None</td>\n",
       "      <td>NaN</td>\n",
       "    </tr>\n",
       "    <tr>\n",
       "      <th>403</th>\n",
       "      <td>810984652412424192</td>\n",
       "      <td>2016-12-19 23:06:23+00:00</td>\n",
       "      <td>Meet Sam. She smiles 24/7 &amp;amp; secretly aspires to be a reindeer. \\nKeep Sam smiling by clicking and sharing this link:\\nhttps://t.co/98tB8y7y7t https://t.co/LouL5vdvxx</td>\n",
       "      <td>https://www.gofundme.com/sams-smile</td>\n",
       "      <td>24</td>\n",
       "      <td>7</td>\n",
       "      <td>Sam</td>\n",
       "      <td>NaN</td>\n",
       "    </tr>\n",
       "    <tr>\n",
       "      <th>528</th>\n",
       "      <td>786709082849828864</td>\n",
       "      <td>2016-10-13 23:23:56+00:00</td>\n",
       "      <td>This is Logan, the Chow who lived. He solemnly swears he's up to lots of good. H*ckin magical af 9.75/10 https://t.co/yBO5wuqaPS</td>\n",
       "      <td>https://twitter.com/dog_rates/status/786709082849828864/photo/1</td>\n",
       "      <td>75</td>\n",
       "      <td>10</td>\n",
       "      <td>Logan</td>\n",
       "      <td>NaN</td>\n",
       "    </tr>\n",
       "    <tr>\n",
       "      <th>700</th>\n",
       "      <td>758467244762497024</td>\n",
       "      <td>2016-07-28 01:00:57+00:00</td>\n",
       "      <td>Why does this never happen at my front door... 165/150 https://t.co/HmwrdfEfUE</td>\n",
       "      <td>https://twitter.com/dog_rates/status/758467244762497024/video/1</td>\n",
       "      <td>165</td>\n",
       "      <td>150</td>\n",
       "      <td>None</td>\n",
       "      <td>NaN</td>\n",
       "    </tr>\n",
       "    <tr>\n",
       "      <th>770</th>\n",
       "      <td>749981277374128128</td>\n",
       "      <td>2016-07-04 15:00:45+00:00</td>\n",
       "      <td>This is Atticus. He's quite simply America af. 1776/10 https://t.co/GRXwMxLBkh</td>\n",
       "      <td>https://twitter.com/dog_rates/status/749981277374128128/photo/1</td>\n",
       "      <td>1776</td>\n",
       "      <td>10</td>\n",
       "      <td>Atticus</td>\n",
       "      <td>NaN</td>\n",
       "    </tr>\n",
       "    <tr>\n",
       "      <th>904</th>\n",
       "      <td>731156023742988288</td>\n",
       "      <td>2016-05-13 16:15:54+00:00</td>\n",
       "      <td>Say hello to this unbelievably well behaved squad of doggos. 204/170 would try to pet all at once https://t.co/yGQI3He3xv</td>\n",
       "      <td>https://twitter.com/dog_rates/status/731156023742988288/photo/1</td>\n",
       "      <td>204</td>\n",
       "      <td>170</td>\n",
       "      <td>this</td>\n",
       "      <td>NaN</td>\n",
       "    </tr>\n",
       "    <tr>\n",
       "      <th>985</th>\n",
       "      <td>716439118184652801</td>\n",
       "      <td>2016-04-03 01:36:11+00:00</td>\n",
       "      <td>This is Bluebert. He just saw that both #FinalFur match ups are split 50/50. Amazed af. 11/10 https://t.co/Kky1DPG4iq</td>\n",
       "      <td>https://twitter.com/dog_rates/status/716439118184652801/photo/1</td>\n",
       "      <td>50</td>\n",
       "      <td>50</td>\n",
       "      <td>Bluebert</td>\n",
       "      <td>NaN</td>\n",
       "    </tr>\n",
       "    <tr>\n",
       "      <th>1011</th>\n",
       "      <td>713900603437621249</td>\n",
       "      <td>2016-03-27 01:29:02+00:00</td>\n",
       "      <td>Happy Saturday here's 9 puppers on a bench. 99/90 good work everybody https://t.co/mpvaVxKmc1</td>\n",
       "      <td>https://twitter.com/dog_rates/status/713900603437621249/photo/1</td>\n",
       "      <td>99</td>\n",
       "      <td>90</td>\n",
       "      <td>None</td>\n",
       "      <td>NaN</td>\n",
       "    </tr>\n",
       "    <tr>\n",
       "      <th>1036</th>\n",
       "      <td>710658690886586372</td>\n",
       "      <td>2016-03-18 02:46:49+00:00</td>\n",
       "      <td>Here's a brigade of puppers. All look very prepared for whatever happens next. 80/80 https://t.co/0eb7R1Om12</td>\n",
       "      <td>https://twitter.com/dog_rates/status/710658690886586372/photo/1</td>\n",
       "      <td>80</td>\n",
       "      <td>80</td>\n",
       "      <td>None</td>\n",
       "      <td>NaN</td>\n",
       "    </tr>\n",
       "    <tr>\n",
       "      <th>1056</th>\n",
       "      <td>709198395643068416</td>\n",
       "      <td>2016-03-14 02:04:08+00:00</td>\n",
       "      <td>From left to right:\\nCletus, Jerome, Alejandro, Burp, &amp;amp; Titson\\nNone know where camera is. 45/50 would hug all at once https://t.co/sedre1ivTK</td>\n",
       "      <td>https://twitter.com/dog_rates/status/709198395643068416/photo/1</td>\n",
       "      <td>45</td>\n",
       "      <td>50</td>\n",
       "      <td>None</td>\n",
       "      <td>NaN</td>\n",
       "    </tr>\n",
       "    <tr>\n",
       "      <th>1129</th>\n",
       "      <td>704054845121142784</td>\n",
       "      <td>2016-02-28 21:25:30+00:00</td>\n",
       "      <td>Here is a whole flock of puppers.  60/50 I'll take the lot https://t.co/9dpcw6MdWa</td>\n",
       "      <td>https://twitter.com/dog_rates/status/704054845121142784/photo/1</td>\n",
       "      <td>60</td>\n",
       "      <td>50</td>\n",
       "      <td>a</td>\n",
       "      <td>NaN</td>\n",
       "    </tr>\n",
       "    <tr>\n",
       "      <th>1210</th>\n",
       "      <td>697463031882764288</td>\n",
       "      <td>2016-02-10 16:51:59+00:00</td>\n",
       "      <td>Happy Wednesday here's a bucket of pups. 44/40 would pet all at once https://t.co/HppvrYuamZ</td>\n",
       "      <td>https://twitter.com/dog_rates/status/697463031882764288/photo/1</td>\n",
       "      <td>44</td>\n",
       "      <td>40</td>\n",
       "      <td>None</td>\n",
       "      <td>NaN</td>\n",
       "    </tr>\n",
       "    <tr>\n",
       "      <th>1399</th>\n",
       "      <td>684222868335505415</td>\n",
       "      <td>2016-01-05 04:00:18+00:00</td>\n",
       "      <td>Someone help the girl is being mugged. Several are distracting her while two steal her shoes. Clever puppers 121/110 https://t.co/1zfnTJLt55</td>\n",
       "      <td>https://twitter.com/dog_rates/status/684222868335505415/photo/1</td>\n",
       "      <td>121</td>\n",
       "      <td>110</td>\n",
       "      <td>None</td>\n",
       "      <td>NaN</td>\n",
       "    </tr>\n",
       "    <tr>\n",
       "      <th>1474</th>\n",
       "      <td>680494726643068929</td>\n",
       "      <td>2015-12-25 21:06:00+00:00</td>\n",
       "      <td>Here we have uncovered an entire battalion of holiday puppers. Average of 11.26/10 https://t.co/eNm2S6p9BD</td>\n",
       "      <td>https://twitter.com/dog_rates/status/680494726643068929/photo/1</td>\n",
       "      <td>26</td>\n",
       "      <td>10</td>\n",
       "      <td>None</td>\n",
       "      <td>NaN</td>\n",
       "    </tr>\n",
       "    <tr>\n",
       "      <th>1540</th>\n",
       "      <td>677716515794329600</td>\n",
       "      <td>2015-12-18 05:06:23+00:00</td>\n",
       "      <td>IT'S PUPPERGEDDON. Total of 144/120 ...I think https://t.co/ZanVtAtvIq</td>\n",
       "      <td>https://twitter.com/dog_rates/status/677716515794329600/photo/1</td>\n",
       "      <td>144</td>\n",
       "      <td>120</td>\n",
       "      <td>None</td>\n",
       "      <td>NaN</td>\n",
       "    </tr>\n",
       "    <tr>\n",
       "      <th>1602</th>\n",
       "      <td>675853064436391936</td>\n",
       "      <td>2015-12-13 01:41:41+00:00</td>\n",
       "      <td>Here we have an entire platoon of puppers. Total score: 88/80 would pet all at once https://t.co/y93p6FLvVw</td>\n",
       "      <td>https://twitter.com/dog_rates/status/675853064436391936/photo/1</td>\n",
       "      <td>88</td>\n",
       "      <td>80</td>\n",
       "      <td>None</td>\n",
       "      <td>NaN</td>\n",
       "    </tr>\n",
       "    <tr>\n",
       "      <th>1821</th>\n",
       "      <td>670842764863651840</td>\n",
       "      <td>2015-11-29 05:52:33+00:00</td>\n",
       "      <td>After so many requests... here you go.\\n\\nGood dogg. 420/10 https://t.co/yfAAo1gdeY</td>\n",
       "      <td>https://twitter.com/dog_rates/status/670842764863651840/photo/1</td>\n",
       "      <td>420</td>\n",
       "      <td>10</td>\n",
       "      <td>None</td>\n",
       "      <td>NaN</td>\n",
       "    </tr>\n",
       "    <tr>\n",
       "      <th>4780</th>\n",
       "      <td>778027034220126208</td>\n",
       "      <td>2016-09-20 00:24:34+00:00</td>\n",
       "      <td>This is Sophie. She's a Jubilant Bush Pupper. Super h*ckin rare. Appears at random just to smile at the locals. 11.27/10 would smile back https://t.co/QFaUiIHxHq</td>\n",
       "      <td>https://twitter.com/dog_rates/status/778027034220126208/photo/1</td>\n",
       "      <td>27</td>\n",
       "      <td>10</td>\n",
       "      <td>Sophie</td>\n",
       "      <td>pupper</td>\n",
       "    </tr>\n",
       "  </tbody>\n",
       "</table>\n",
       "</div>"
      ],
      "text/plain": [
       "                tweet_id                 timestamp  \\\n",
       "339   820690176645140481 2017-01-15 17:52:40+00:00   \n",
       "403   810984652412424192 2016-12-19 23:06:23+00:00   \n",
       "528   786709082849828864 2016-10-13 23:23:56+00:00   \n",
       "700   758467244762497024 2016-07-28 01:00:57+00:00   \n",
       "770   749981277374128128 2016-07-04 15:00:45+00:00   \n",
       "904   731156023742988288 2016-05-13 16:15:54+00:00   \n",
       "985   716439118184652801 2016-04-03 01:36:11+00:00   \n",
       "1011  713900603437621249 2016-03-27 01:29:02+00:00   \n",
       "1036  710658690886586372 2016-03-18 02:46:49+00:00   \n",
       "1056  709198395643068416 2016-03-14 02:04:08+00:00   \n",
       "1129  704054845121142784 2016-02-28 21:25:30+00:00   \n",
       "1210  697463031882764288 2016-02-10 16:51:59+00:00   \n",
       "1399  684222868335505415 2016-01-05 04:00:18+00:00   \n",
       "1474  680494726643068929 2015-12-25 21:06:00+00:00   \n",
       "1540  677716515794329600 2015-12-18 05:06:23+00:00   \n",
       "1602  675853064436391936 2015-12-13 01:41:41+00:00   \n",
       "1821  670842764863651840 2015-11-29 05:52:33+00:00   \n",
       "4780  778027034220126208 2016-09-20 00:24:34+00:00   \n",
       "\n",
       "                                                                                                                                                                           text  \\\n",
       "339                                                                         The floofs have been released I repeat the floofs have been released. 84/70 https://t.co/NIYC820tmd   \n",
       "403   Meet Sam. She smiles 24/7 &amp; secretly aspires to be a reindeer. \\nKeep Sam smiling by clicking and sharing this link:\\nhttps://t.co/98tB8y7y7t https://t.co/LouL5vdvxx   \n",
       "528                                            This is Logan, the Chow who lived. He solemnly swears he's up to lots of good. H*ckin magical af 9.75/10 https://t.co/yBO5wuqaPS   \n",
       "700                                                                                              Why does this never happen at my front door... 165/150 https://t.co/HmwrdfEfUE   \n",
       "770                                                                                              This is Atticus. He's quite simply America af. 1776/10 https://t.co/GRXwMxLBkh   \n",
       "904                                                   Say hello to this unbelievably well behaved squad of doggos. 204/170 would try to pet all at once https://t.co/yGQI3He3xv   \n",
       "985                                                       This is Bluebert. He just saw that both #FinalFur match ups are split 50/50. Amazed af. 11/10 https://t.co/Kky1DPG4iq   \n",
       "1011                                                                              Happy Saturday here's 9 puppers on a bench. 99/90 good work everybody https://t.co/mpvaVxKmc1   \n",
       "1036                                                               Here's a brigade of puppers. All look very prepared for whatever happens next. 80/80 https://t.co/0eb7R1Om12   \n",
       "1056                         From left to right:\\nCletus, Jerome, Alejandro, Burp, &amp; Titson\\nNone know where camera is. 45/50 would hug all at once https://t.co/sedre1ivTK   \n",
       "1129                                                                                         Here is a whole flock of puppers.  60/50 I'll take the lot https://t.co/9dpcw6MdWa   \n",
       "1210                                                                               Happy Wednesday here's a bucket of pups. 44/40 would pet all at once https://t.co/HppvrYuamZ   \n",
       "1399                               Someone help the girl is being mugged. Several are distracting her while two steal her shoes. Clever puppers 121/110 https://t.co/1zfnTJLt55   \n",
       "1474                                                                 Here we have uncovered an entire battalion of holiday puppers. Average of 11.26/10 https://t.co/eNm2S6p9BD   \n",
       "1540                                                                                                     IT'S PUPPERGEDDON. Total of 144/120 ...I think https://t.co/ZanVtAtvIq   \n",
       "1602                                                                Here we have an entire platoon of puppers. Total score: 88/80 would pet all at once https://t.co/y93p6FLvVw   \n",
       "1821                                                                                        After so many requests... here you go.\\n\\nGood dogg. 420/10 https://t.co/yfAAo1gdeY   \n",
       "4780          This is Sophie. She's a Jubilant Bush Pupper. Super h*ckin rare. Appears at random just to smile at the locals. 11.27/10 would smile back https://t.co/QFaUiIHxHq   \n",
       "\n",
       "                                                        expanded_urls  \\\n",
       "339   https://twitter.com/dog_rates/status/820690176645140481/photo/1   \n",
       "403                               https://www.gofundme.com/sams-smile   \n",
       "528   https://twitter.com/dog_rates/status/786709082849828864/photo/1   \n",
       "700   https://twitter.com/dog_rates/status/758467244762497024/video/1   \n",
       "770   https://twitter.com/dog_rates/status/749981277374128128/photo/1   \n",
       "904   https://twitter.com/dog_rates/status/731156023742988288/photo/1   \n",
       "985   https://twitter.com/dog_rates/status/716439118184652801/photo/1   \n",
       "1011  https://twitter.com/dog_rates/status/713900603437621249/photo/1   \n",
       "1036  https://twitter.com/dog_rates/status/710658690886586372/photo/1   \n",
       "1056  https://twitter.com/dog_rates/status/709198395643068416/photo/1   \n",
       "1129  https://twitter.com/dog_rates/status/704054845121142784/photo/1   \n",
       "1210  https://twitter.com/dog_rates/status/697463031882764288/photo/1   \n",
       "1399  https://twitter.com/dog_rates/status/684222868335505415/photo/1   \n",
       "1474  https://twitter.com/dog_rates/status/680494726643068929/photo/1   \n",
       "1540  https://twitter.com/dog_rates/status/677716515794329600/photo/1   \n",
       "1602  https://twitter.com/dog_rates/status/675853064436391936/photo/1   \n",
       "1821  https://twitter.com/dog_rates/status/670842764863651840/photo/1   \n",
       "4780  https://twitter.com/dog_rates/status/778027034220126208/photo/1   \n",
       "\n",
       "      rating_numerator  rating_denominator      name   stage  \n",
       "339                 84                  70      None     NaN  \n",
       "403                 24                   7       Sam     NaN  \n",
       "528                 75                  10     Logan     NaN  \n",
       "700                165                 150      None     NaN  \n",
       "770               1776                  10   Atticus     NaN  \n",
       "904                204                 170      this     NaN  \n",
       "985                 50                  50  Bluebert     NaN  \n",
       "1011                99                  90      None     NaN  \n",
       "1036                80                  80      None     NaN  \n",
       "1056                45                  50      None     NaN  \n",
       "1129                60                  50         a     NaN  \n",
       "1210                44                  40      None     NaN  \n",
       "1399               121                 110      None     NaN  \n",
       "1474                26                  10      None     NaN  \n",
       "1540               144                 120      None     NaN  \n",
       "1602                88                  80      None     NaN  \n",
       "1821               420                  10      None     NaN  \n",
       "4780                27                  10    Sophie  pupper  "
      ]
     },
     "execution_count": 92,
     "metadata": {},
     "output_type": "execute_result"
    }
   ],
   "source": [
    "#Display numerators greater than 15\n",
    "archive_clean.query('rating_numerator > 15')"
   ]
  },
  {
   "cell_type": "code",
   "execution_count": 93,
   "id": "b2560b61",
   "metadata": {},
   "outputs": [
    {
     "data": {
      "text/plain": [
       "Int64Index([ 339,  403,  528,  700,  770,  904,  985, 1011, 1036, 1056, 1129,\n",
       "            1210, 1399, 1474, 1540, 1602, 1821, 4780],\n",
       "           dtype='int64')"
      ]
     },
     "execution_count": 93,
     "metadata": {},
     "output_type": "execute_result"
    }
   ],
   "source": [
    "#Display indices of row where numerators are greater than 15\n",
    "archive_clean.query('rating_numerator > 15').index"
   ]
  },
  {
   "cell_type": "markdown",
   "id": "51f08014",
   "metadata": {},
   "source": [
    "row 403 should be removed because it has no rating  \n",
    "row 770 should be removed because it the rating is not real  \n",
    "row 1821 should be removed because Snoop Dogg is on the picture"
   ]
  },
  {
   "cell_type": "code",
   "execution_count": 94,
   "id": "36748c44",
   "metadata": {},
   "outputs": [],
   "source": [
    "#Drop rows no 403, 770, 1821\n",
    "archive_clean.drop([403 , 770, 1821], axis = 0, inplace=True)"
   ]
  },
  {
   "cell_type": "code",
   "execution_count": 95,
   "id": "837e27fa",
   "metadata": {},
   "outputs": [],
   "source": [
    "#Replace with correct values\n",
    "archive_clean.loc[320, 'rating_numerator'] = 13\n",
    "archive_clean.loc[339, 'rating_numerator'] = 12\n",
    "archive_clean.loc[528, 'rating_numerator'] = 10\n",
    "archive_clean.loc[700, 'rating_numerator'] = 11\n",
    "archive_clean.loc[904, 'rating_numerator'] = 11\n",
    "archive_clean.loc[985, 'rating_numerator'] = 11\n",
    "archive_clean.loc[1011, 'rating_numerator'] = 11\n",
    "archive_clean.loc[1036, 'rating_numerator'] = 10\n",
    "archive_clean.loc[1056, 'rating_numerator'] = 9\n",
    "archive_clean.loc[1129, 'rating_numerator'] = 12\n",
    "archive_clean.loc[1210, 'rating_numerator'] = 11\n",
    "archive_clean.loc[1399, 'rating_numerator'] = 11\n",
    "archive_clean.loc[1474, 'rating_numerator'] = 11\n",
    "archive_clean.loc[1540, 'rating_numerator'] = 12\n",
    "archive_clean.loc[1602, 'rating_numerator'] = 11\n",
    "archive_clean.loc[4780, 'rating_numerator'] = 11"
   ]
  },
  {
   "cell_type": "markdown",
   "id": "3a8a96c4",
   "metadata": {},
   "source": [
    "###### Test"
   ]
  },
  {
   "cell_type": "code",
   "execution_count": 96,
   "id": "6df6a5bb",
   "metadata": {},
   "outputs": [],
   "source": [
    "#No rows where numerators are greater than 15\n",
    "assert archive_clean.query('rating_numerator > 15').shape[0] == 0"
   ]
  },
  {
   "cell_type": "markdown",
   "id": "650a88db",
   "metadata": {},
   "source": [
    "###### Missing values in extended_urls column"
   ]
  },
  {
   "cell_type": "markdown",
   "id": "45e5eed1",
   "metadata": {},
   "source": [
    "###### Define  \n",
    "Remove rows with missing URL in extended_urls column"
   ]
  },
  {
   "cell_type": "markdown",
   "id": "8597f1df",
   "metadata": {},
   "source": [
    "###### Code"
   ]
  },
  {
   "cell_type": "code",
   "execution_count": 97,
   "id": "b3853c61",
   "metadata": {},
   "outputs": [],
   "source": [
    "#Drop rows with null values in 'extended_urls' column\n",
    "archive_clean = archive_clean[archive_clean['expanded_urls'].notnull()]"
   ]
  },
  {
   "cell_type": "markdown",
   "id": "13c27b98",
   "metadata": {},
   "source": [
    "###### Test"
   ]
  },
  {
   "cell_type": "code",
   "execution_count": 98,
   "id": "d0473bf1",
   "metadata": {},
   "outputs": [],
   "source": [
    "#No rows where numerators are greater than 15\n",
    "assert archive_clean[archive_clean['expanded_urls'].isnull()].shape[0] == 0"
   ]
  },
  {
   "cell_type": "code",
   "execution_count": 99,
   "id": "0a9d870a",
   "metadata": {},
   "outputs": [
    {
     "name": "stdout",
     "output_type": "stream",
     "text": [
      "<class 'pandas.core.frame.DataFrame'>\n",
      "Int64Index: 2102 entries, 0 to 7158\n",
      "Data columns (total 8 columns):\n",
      " #   Column              Non-Null Count  Dtype              \n",
      "---  ------              --------------  -----              \n",
      " 0   tweet_id            2102 non-null   int64              \n",
      " 1   timestamp           2102 non-null   datetime64[ns, UTC]\n",
      " 2   text                2102 non-null   object             \n",
      " 3   expanded_urls       2102 non-null   object             \n",
      " 4   rating_numerator    2102 non-null   int64              \n",
      " 5   rating_denominator  2102 non-null   int64              \n",
      " 6   name                2102 non-null   object             \n",
      " 7   stage               346 non-null    object             \n",
      "dtypes: datetime64[ns, UTC](1), int64(3), object(4)\n",
      "memory usage: 147.8+ KB\n"
     ]
    }
   ],
   "source": [
    "archive_clean.info()"
   ]
  },
  {
   "cell_type": "markdown",
   "id": "f12a6991",
   "metadata": {},
   "source": [
    "###### *tweet_id* column as integer not string"
   ]
  },
  {
   "cell_type": "markdown",
   "id": "dc56d813",
   "metadata": {},
   "source": [
    "###### Define\n",
    "Convert 'tweet_id' column from int to str"
   ]
  },
  {
   "cell_type": "markdown",
   "id": "e1660c9a",
   "metadata": {},
   "source": [
    "###### Code"
   ]
  },
  {
   "cell_type": "code",
   "execution_count": 100,
   "id": "29f7fc03",
   "metadata": {},
   "outputs": [],
   "source": [
    "#Convert 'tweet_id' column from int to str\n",
    "archive_clean['tweet_id'] = archive_clean['tweet_id'].astype(str)"
   ]
  },
  {
   "cell_type": "code",
   "execution_count": 101,
   "id": "f4ae632b",
   "metadata": {},
   "outputs": [
    {
     "name": "stdout",
     "output_type": "stream",
     "text": [
      "<class 'pandas.core.frame.DataFrame'>\n",
      "Int64Index: 2102 entries, 0 to 7158\n",
      "Data columns (total 8 columns):\n",
      " #   Column              Non-Null Count  Dtype              \n",
      "---  ------              --------------  -----              \n",
      " 0   tweet_id            2102 non-null   object             \n",
      " 1   timestamp           2102 non-null   datetime64[ns, UTC]\n",
      " 2   text                2102 non-null   object             \n",
      " 3   expanded_urls       2102 non-null   object             \n",
      " 4   rating_numerator    2102 non-null   int64              \n",
      " 5   rating_denominator  2102 non-null   int64              \n",
      " 6   name                2102 non-null   object             \n",
      " 7   stage               346 non-null    object             \n",
      "dtypes: datetime64[ns, UTC](1), int64(2), object(5)\n",
      "memory usage: 147.8+ KB\n"
     ]
    }
   ],
   "source": [
    "#Check if 'tweet_id' column is str\n",
    "archive_clean.info()"
   ]
  },
  {
   "cell_type": "markdown",
   "id": "9da4f329",
   "metadata": {},
   "source": [
    "###### two columns for one value *rating*: Rating numerator and rating denominator"
   ]
  },
  {
   "cell_type": "markdown",
   "id": "69479215",
   "metadata": {},
   "source": [
    "###### Define\n",
    "Assume that rating denominator should be always 10, so the actual rating should be rating numerator divided by 10. I add new c alculated column and drop columns *rating_numerator* and *rating_denominator*"
   ]
  },
  {
   "cell_type": "markdown",
   "id": "5a5c4998",
   "metadata": {},
   "source": [
    "###### Code"
   ]
  },
  {
   "cell_type": "code",
   "execution_count": 102,
   "id": "48515937",
   "metadata": {},
   "outputs": [],
   "source": [
    "#Add new column where rating numerator is devided by 10\n",
    "archive_clean['rating'] = archive_clean['rating_numerator'] / 10"
   ]
  },
  {
   "cell_type": "code",
   "execution_count": 103,
   "id": "fa9457c3",
   "metadata": {},
   "outputs": [],
   "source": [
    "#Drop 2 columns\n",
    "archive_clean.drop(['rating_numerator', 'rating_denominator'], axis = 1, inplace = True)"
   ]
  },
  {
   "cell_type": "markdown",
   "id": "7833e310",
   "metadata": {},
   "source": [
    "###### Test"
   ]
  },
  {
   "cell_type": "code",
   "execution_count": 104,
   "id": "9785df62",
   "metadata": {},
   "outputs": [
    {
     "name": "stdout",
     "output_type": "stream",
     "text": [
      "<class 'pandas.core.frame.DataFrame'>\n",
      "Int64Index: 2102 entries, 0 to 7158\n",
      "Data columns (total 7 columns):\n",
      " #   Column         Non-Null Count  Dtype              \n",
      "---  ------         --------------  -----              \n",
      " 0   tweet_id       2102 non-null   object             \n",
      " 1   timestamp      2102 non-null   datetime64[ns, UTC]\n",
      " 2   text           2102 non-null   object             \n",
      " 3   expanded_urls  2102 non-null   object             \n",
      " 4   name           2102 non-null   object             \n",
      " 5   stage          346 non-null    object             \n",
      " 6   rating         2102 non-null   float64            \n",
      "dtypes: datetime64[ns, UTC](1), float64(1), object(5)\n",
      "memory usage: 131.4+ KB\n"
     ]
    }
   ],
   "source": [
    "archive_clean.info()"
   ]
  },
  {
   "cell_type": "markdown",
   "id": "b0f12afb",
   "metadata": {},
   "source": [
    "###### Algorithm recognises something else instead of breed of dog"
   ]
  },
  {
   "cell_type": "markdown",
   "id": "01c791c0",
   "metadata": {},
   "source": [
    "###### Define\n",
    "Remove lines where the algorithm did not recognise the breed of dog by filtering out the rows with no True value in p_dog column  \n",
    "Create new column which will store breeds of dogs."
   ]
  },
  {
   "cell_type": "markdown",
   "id": "959c6d3c",
   "metadata": {},
   "source": [
    "###### Code"
   ]
  },
  {
   "cell_type": "code",
   "execution_count": 105,
   "id": "7b5c113a",
   "metadata": {},
   "outputs": [
    {
     "data": {
      "text/html": [
       "<div>\n",
       "<style scoped>\n",
       "    .dataframe tbody tr th:only-of-type {\n",
       "        vertical-align: middle;\n",
       "    }\n",
       "\n",
       "    .dataframe tbody tr th {\n",
       "        vertical-align: top;\n",
       "    }\n",
       "\n",
       "    .dataframe thead th {\n",
       "        text-align: right;\n",
       "    }\n",
       "</style>\n",
       "<table border=\"1\" class=\"dataframe\">\n",
       "  <thead>\n",
       "    <tr style=\"text-align: right;\">\n",
       "      <th></th>\n",
       "      <th>tweet_id</th>\n",
       "      <th>jpg_url</th>\n",
       "      <th>img_num</th>\n",
       "      <th>p1</th>\n",
       "      <th>p1_conf</th>\n",
       "      <th>p1_dog</th>\n",
       "      <th>p2</th>\n",
       "      <th>p2_conf</th>\n",
       "      <th>p2_dog</th>\n",
       "      <th>p3</th>\n",
       "      <th>p3_conf</th>\n",
       "      <th>p3_dog</th>\n",
       "    </tr>\n",
       "  </thead>\n",
       "  <tbody>\n",
       "    <tr>\n",
       "      <th>0</th>\n",
       "      <td>666020888022790149</td>\n",
       "      <td>https://pbs.twimg.com/media/CT4udn0WwAA0aMy.jpg</td>\n",
       "      <td>1</td>\n",
       "      <td>Welsh_springer_spaniel</td>\n",
       "      <td>0.465074</td>\n",
       "      <td>True</td>\n",
       "      <td>collie</td>\n",
       "      <td>0.156665</td>\n",
       "      <td>True</td>\n",
       "      <td>Shetland_sheepdog</td>\n",
       "      <td>0.061428</td>\n",
       "      <td>True</td>\n",
       "    </tr>\n",
       "    <tr>\n",
       "      <th>1</th>\n",
       "      <td>666029285002620928</td>\n",
       "      <td>https://pbs.twimg.com/media/CT42GRgUYAA5iDo.jpg</td>\n",
       "      <td>1</td>\n",
       "      <td>redbone</td>\n",
       "      <td>0.506826</td>\n",
       "      <td>True</td>\n",
       "      <td>miniature_pinscher</td>\n",
       "      <td>0.074192</td>\n",
       "      <td>True</td>\n",
       "      <td>Rhodesian_ridgeback</td>\n",
       "      <td>0.072010</td>\n",
       "      <td>True</td>\n",
       "    </tr>\n",
       "    <tr>\n",
       "      <th>2</th>\n",
       "      <td>666033412701032449</td>\n",
       "      <td>https://pbs.twimg.com/media/CT4521TWwAEvMyu.jpg</td>\n",
       "      <td>1</td>\n",
       "      <td>German_shepherd</td>\n",
       "      <td>0.596461</td>\n",
       "      <td>True</td>\n",
       "      <td>malinois</td>\n",
       "      <td>0.138584</td>\n",
       "      <td>True</td>\n",
       "      <td>bloodhound</td>\n",
       "      <td>0.116197</td>\n",
       "      <td>True</td>\n",
       "    </tr>\n",
       "    <tr>\n",
       "      <th>3</th>\n",
       "      <td>666044226329800704</td>\n",
       "      <td>https://pbs.twimg.com/media/CT5Dr8HUEAA-lEu.jpg</td>\n",
       "      <td>1</td>\n",
       "      <td>Rhodesian_ridgeback</td>\n",
       "      <td>0.408143</td>\n",
       "      <td>True</td>\n",
       "      <td>redbone</td>\n",
       "      <td>0.360687</td>\n",
       "      <td>True</td>\n",
       "      <td>miniature_pinscher</td>\n",
       "      <td>0.222752</td>\n",
       "      <td>True</td>\n",
       "    </tr>\n",
       "    <tr>\n",
       "      <th>4</th>\n",
       "      <td>666049248165822465</td>\n",
       "      <td>https://pbs.twimg.com/media/CT5IQmsXIAAKY4A.jpg</td>\n",
       "      <td>1</td>\n",
       "      <td>miniature_pinscher</td>\n",
       "      <td>0.560311</td>\n",
       "      <td>True</td>\n",
       "      <td>Rottweiler</td>\n",
       "      <td>0.243682</td>\n",
       "      <td>True</td>\n",
       "      <td>Doberman</td>\n",
       "      <td>0.154629</td>\n",
       "      <td>True</td>\n",
       "    </tr>\n",
       "  </tbody>\n",
       "</table>\n",
       "</div>"
      ],
      "text/plain": [
       "             tweet_id                                          jpg_url  \\\n",
       "0  666020888022790149  https://pbs.twimg.com/media/CT4udn0WwAA0aMy.jpg   \n",
       "1  666029285002620928  https://pbs.twimg.com/media/CT42GRgUYAA5iDo.jpg   \n",
       "2  666033412701032449  https://pbs.twimg.com/media/CT4521TWwAEvMyu.jpg   \n",
       "3  666044226329800704  https://pbs.twimg.com/media/CT5Dr8HUEAA-lEu.jpg   \n",
       "4  666049248165822465  https://pbs.twimg.com/media/CT5IQmsXIAAKY4A.jpg   \n",
       "\n",
       "   img_num                      p1   p1_conf  p1_dog                  p2  \\\n",
       "0        1  Welsh_springer_spaniel  0.465074    True              collie   \n",
       "1        1                 redbone  0.506826    True  miniature_pinscher   \n",
       "2        1         German_shepherd  0.596461    True            malinois   \n",
       "3        1     Rhodesian_ridgeback  0.408143    True             redbone   \n",
       "4        1      miniature_pinscher  0.560311    True          Rottweiler   \n",
       "\n",
       "    p2_conf  p2_dog                   p3   p3_conf  p3_dog  \n",
       "0  0.156665    True    Shetland_sheepdog  0.061428    True  \n",
       "1  0.074192    True  Rhodesian_ridgeback  0.072010    True  \n",
       "2  0.138584    True           bloodhound  0.116197    True  \n",
       "3  0.360687    True   miniature_pinscher  0.222752    True  \n",
       "4  0.243682    True             Doberman  0.154629    True  "
      ]
     },
     "execution_count": 105,
     "metadata": {},
     "output_type": "execute_result"
    }
   ],
   "source": [
    "#filtering out rows where breed of dog was not recognised\n",
    "predictions_clean = predictions_clean.query('p1_dog == True | p2_dog == True | p3_dog == True')\n",
    "#Display first five rows\n",
    "predictions_clean.head()"
   ]
  },
  {
   "cell_type": "markdown",
   "id": "975285d3",
   "metadata": {},
   "source": [
    "From https://www.dataquest.io/blog/tutorial-add-column-pandas-dataframe-based-on-if-else-condition/"
   ]
  },
  {
   "cell_type": "code",
   "execution_count": 106,
   "id": "da674d32",
   "metadata": {},
   "outputs": [],
   "source": [
    "# create a list of our conditions\n",
    "conditions = [\n",
    "    (predictions_clean['p1_dog'] == True),\n",
    "    (predictions_clean['p1_dog'] == False) & (predictions_clean['p2_dog'] == True),\n",
    "    (predictions_clean['p1_dog'] == False) & (predictions_clean['p2_dog'] == False) & (predictions_clean['p3_dog'] == True),\n",
    "    ]\n",
    "\n",
    "# create a list of the values we want to assign for each condition\n",
    "values = [predictions_clean['p1'], predictions_clean['p2'], predictions_clean['p3']]\n",
    "\n",
    "# create a new column and use np.select to assign values to it using our lists as arguments\n",
    "predictions_clean['breed'] = np.select(conditions, values)\n"
   ]
  },
  {
   "cell_type": "markdown",
   "id": "30c742e6",
   "metadata": {},
   "source": [
    "###### Test"
   ]
  },
  {
   "cell_type": "code",
   "execution_count": 107,
   "id": "def6fdf9",
   "metadata": {},
   "outputs": [
    {
     "data": {
      "text/html": [
       "<div>\n",
       "<style scoped>\n",
       "    .dataframe tbody tr th:only-of-type {\n",
       "        vertical-align: middle;\n",
       "    }\n",
       "\n",
       "    .dataframe tbody tr th {\n",
       "        vertical-align: top;\n",
       "    }\n",
       "\n",
       "    .dataframe thead th {\n",
       "        text-align: right;\n",
       "    }\n",
       "</style>\n",
       "<table border=\"1\" class=\"dataframe\">\n",
       "  <thead>\n",
       "    <tr style=\"text-align: right;\">\n",
       "      <th></th>\n",
       "      <th>tweet_id</th>\n",
       "      <th>jpg_url</th>\n",
       "      <th>img_num</th>\n",
       "      <th>p1</th>\n",
       "      <th>p1_conf</th>\n",
       "      <th>p1_dog</th>\n",
       "      <th>p2</th>\n",
       "      <th>p2_conf</th>\n",
       "      <th>p2_dog</th>\n",
       "      <th>p3</th>\n",
       "      <th>p3_conf</th>\n",
       "      <th>p3_dog</th>\n",
       "      <th>breed</th>\n",
       "    </tr>\n",
       "  </thead>\n",
       "  <tbody>\n",
       "    <tr>\n",
       "      <th>0</th>\n",
       "      <td>666020888022790149</td>\n",
       "      <td>https://pbs.twimg.com/media/CT4udn0WwAA0aMy.jpg</td>\n",
       "      <td>1</td>\n",
       "      <td>Welsh_springer_spaniel</td>\n",
       "      <td>0.465074</td>\n",
       "      <td>True</td>\n",
       "      <td>collie</td>\n",
       "      <td>0.156665</td>\n",
       "      <td>True</td>\n",
       "      <td>Shetland_sheepdog</td>\n",
       "      <td>0.061428</td>\n",
       "      <td>True</td>\n",
       "      <td>Welsh_springer_spaniel</td>\n",
       "    </tr>\n",
       "    <tr>\n",
       "      <th>1</th>\n",
       "      <td>666029285002620928</td>\n",
       "      <td>https://pbs.twimg.com/media/CT42GRgUYAA5iDo.jpg</td>\n",
       "      <td>1</td>\n",
       "      <td>redbone</td>\n",
       "      <td>0.506826</td>\n",
       "      <td>True</td>\n",
       "      <td>miniature_pinscher</td>\n",
       "      <td>0.074192</td>\n",
       "      <td>True</td>\n",
       "      <td>Rhodesian_ridgeback</td>\n",
       "      <td>0.072010</td>\n",
       "      <td>True</td>\n",
       "      <td>redbone</td>\n",
       "    </tr>\n",
       "    <tr>\n",
       "      <th>2</th>\n",
       "      <td>666033412701032449</td>\n",
       "      <td>https://pbs.twimg.com/media/CT4521TWwAEvMyu.jpg</td>\n",
       "      <td>1</td>\n",
       "      <td>German_shepherd</td>\n",
       "      <td>0.596461</td>\n",
       "      <td>True</td>\n",
       "      <td>malinois</td>\n",
       "      <td>0.138584</td>\n",
       "      <td>True</td>\n",
       "      <td>bloodhound</td>\n",
       "      <td>0.116197</td>\n",
       "      <td>True</td>\n",
       "      <td>German_shepherd</td>\n",
       "    </tr>\n",
       "    <tr>\n",
       "      <th>3</th>\n",
       "      <td>666044226329800704</td>\n",
       "      <td>https://pbs.twimg.com/media/CT5Dr8HUEAA-lEu.jpg</td>\n",
       "      <td>1</td>\n",
       "      <td>Rhodesian_ridgeback</td>\n",
       "      <td>0.408143</td>\n",
       "      <td>True</td>\n",
       "      <td>redbone</td>\n",
       "      <td>0.360687</td>\n",
       "      <td>True</td>\n",
       "      <td>miniature_pinscher</td>\n",
       "      <td>0.222752</td>\n",
       "      <td>True</td>\n",
       "      <td>Rhodesian_ridgeback</td>\n",
       "    </tr>\n",
       "    <tr>\n",
       "      <th>4</th>\n",
       "      <td>666049248165822465</td>\n",
       "      <td>https://pbs.twimg.com/media/CT5IQmsXIAAKY4A.jpg</td>\n",
       "      <td>1</td>\n",
       "      <td>miniature_pinscher</td>\n",
       "      <td>0.560311</td>\n",
       "      <td>True</td>\n",
       "      <td>Rottweiler</td>\n",
       "      <td>0.243682</td>\n",
       "      <td>True</td>\n",
       "      <td>Doberman</td>\n",
       "      <td>0.154629</td>\n",
       "      <td>True</td>\n",
       "      <td>miniature_pinscher</td>\n",
       "    </tr>\n",
       "    <tr>\n",
       "      <th>5</th>\n",
       "      <td>666050758794694657</td>\n",
       "      <td>https://pbs.twimg.com/media/CT5Jof1WUAEuVxN.jpg</td>\n",
       "      <td>1</td>\n",
       "      <td>Bernese_mountain_dog</td>\n",
       "      <td>0.651137</td>\n",
       "      <td>True</td>\n",
       "      <td>English_springer</td>\n",
       "      <td>0.263788</td>\n",
       "      <td>True</td>\n",
       "      <td>Greater_Swiss_Mountain_dog</td>\n",
       "      <td>0.016199</td>\n",
       "      <td>True</td>\n",
       "      <td>Bernese_mountain_dog</td>\n",
       "    </tr>\n",
       "    <tr>\n",
       "      <th>7</th>\n",
       "      <td>666055525042405380</td>\n",
       "      <td>https://pbs.twimg.com/media/CT5N9tpXIAAifs1.jpg</td>\n",
       "      <td>1</td>\n",
       "      <td>chow</td>\n",
       "      <td>0.692517</td>\n",
       "      <td>True</td>\n",
       "      <td>Tibetan_mastiff</td>\n",
       "      <td>0.058279</td>\n",
       "      <td>True</td>\n",
       "      <td>fur_coat</td>\n",
       "      <td>0.054449</td>\n",
       "      <td>False</td>\n",
       "      <td>chow</td>\n",
       "    </tr>\n",
       "    <tr>\n",
       "      <th>8</th>\n",
       "      <td>666057090499244032</td>\n",
       "      <td>https://pbs.twimg.com/media/CT5PY90WoAAQGLo.jpg</td>\n",
       "      <td>1</td>\n",
       "      <td>shopping_cart</td>\n",
       "      <td>0.962465</td>\n",
       "      <td>False</td>\n",
       "      <td>shopping_basket</td>\n",
       "      <td>0.014594</td>\n",
       "      <td>False</td>\n",
       "      <td>golden_retriever</td>\n",
       "      <td>0.007959</td>\n",
       "      <td>True</td>\n",
       "      <td>golden_retriever</td>\n",
       "    </tr>\n",
       "    <tr>\n",
       "      <th>9</th>\n",
       "      <td>666058600524156928</td>\n",
       "      <td>https://pbs.twimg.com/media/CT5Qw94XAAA_2dP.jpg</td>\n",
       "      <td>1</td>\n",
       "      <td>miniature_poodle</td>\n",
       "      <td>0.201493</td>\n",
       "      <td>True</td>\n",
       "      <td>komondor</td>\n",
       "      <td>0.192305</td>\n",
       "      <td>True</td>\n",
       "      <td>soft-coated_wheaten_terrier</td>\n",
       "      <td>0.082086</td>\n",
       "      <td>True</td>\n",
       "      <td>miniature_poodle</td>\n",
       "    </tr>\n",
       "    <tr>\n",
       "      <th>10</th>\n",
       "      <td>666063827256086533</td>\n",
       "      <td>https://pbs.twimg.com/media/CT5Vg_wXIAAXfnj.jpg</td>\n",
       "      <td>1</td>\n",
       "      <td>golden_retriever</td>\n",
       "      <td>0.775930</td>\n",
       "      <td>True</td>\n",
       "      <td>Tibetan_mastiff</td>\n",
       "      <td>0.093718</td>\n",
       "      <td>True</td>\n",
       "      <td>Labrador_retriever</td>\n",
       "      <td>0.072427</td>\n",
       "      <td>True</td>\n",
       "      <td>golden_retriever</td>\n",
       "    </tr>\n",
       "    <tr>\n",
       "      <th>11</th>\n",
       "      <td>666071193221509120</td>\n",
       "      <td>https://pbs.twimg.com/media/CT5cN_3WEAAlOoZ.jpg</td>\n",
       "      <td>1</td>\n",
       "      <td>Gordon_setter</td>\n",
       "      <td>0.503672</td>\n",
       "      <td>True</td>\n",
       "      <td>Yorkshire_terrier</td>\n",
       "      <td>0.174201</td>\n",
       "      <td>True</td>\n",
       "      <td>Pekinese</td>\n",
       "      <td>0.109454</td>\n",
       "      <td>True</td>\n",
       "      <td>Gordon_setter</td>\n",
       "    </tr>\n",
       "    <tr>\n",
       "      <th>12</th>\n",
       "      <td>666073100786774016</td>\n",
       "      <td>https://pbs.twimg.com/media/CT5d9DZXAAALcwe.jpg</td>\n",
       "      <td>1</td>\n",
       "      <td>Walker_hound</td>\n",
       "      <td>0.260857</td>\n",
       "      <td>True</td>\n",
       "      <td>English_foxhound</td>\n",
       "      <td>0.175382</td>\n",
       "      <td>True</td>\n",
       "      <td>Ibizan_hound</td>\n",
       "      <td>0.097471</td>\n",
       "      <td>True</td>\n",
       "      <td>Walker_hound</td>\n",
       "    </tr>\n",
       "    <tr>\n",
       "      <th>13</th>\n",
       "      <td>666082916733198337</td>\n",
       "      <td>https://pbs.twimg.com/media/CT5m4VGWEAAtKc8.jpg</td>\n",
       "      <td>1</td>\n",
       "      <td>pug</td>\n",
       "      <td>0.489814</td>\n",
       "      <td>True</td>\n",
       "      <td>bull_mastiff</td>\n",
       "      <td>0.404722</td>\n",
       "      <td>True</td>\n",
       "      <td>French_bulldog</td>\n",
       "      <td>0.048960</td>\n",
       "      <td>True</td>\n",
       "      <td>pug</td>\n",
       "    </tr>\n",
       "    <tr>\n",
       "      <th>14</th>\n",
       "      <td>666094000022159362</td>\n",
       "      <td>https://pbs.twimg.com/media/CT5w9gUW4AAsBNN.jpg</td>\n",
       "      <td>1</td>\n",
       "      <td>bloodhound</td>\n",
       "      <td>0.195217</td>\n",
       "      <td>True</td>\n",
       "      <td>German_shepherd</td>\n",
       "      <td>0.078260</td>\n",
       "      <td>True</td>\n",
       "      <td>malinois</td>\n",
       "      <td>0.075628</td>\n",
       "      <td>True</td>\n",
       "      <td>bloodhound</td>\n",
       "    </tr>\n",
       "    <tr>\n",
       "      <th>15</th>\n",
       "      <td>666099513787052032</td>\n",
       "      <td>https://pbs.twimg.com/media/CT51-JJUEAA6hV8.jpg</td>\n",
       "      <td>1</td>\n",
       "      <td>Lhasa</td>\n",
       "      <td>0.582330</td>\n",
       "      <td>True</td>\n",
       "      <td>Shih-Tzu</td>\n",
       "      <td>0.166192</td>\n",
       "      <td>True</td>\n",
       "      <td>Dandie_Dinmont</td>\n",
       "      <td>0.089688</td>\n",
       "      <td>True</td>\n",
       "      <td>Lhasa</td>\n",
       "    </tr>\n",
       "    <tr>\n",
       "      <th>16</th>\n",
       "      <td>666102155909144576</td>\n",
       "      <td>https://pbs.twimg.com/media/CT54YGiWUAEZnoK.jpg</td>\n",
       "      <td>1</td>\n",
       "      <td>English_setter</td>\n",
       "      <td>0.298617</td>\n",
       "      <td>True</td>\n",
       "      <td>Newfoundland</td>\n",
       "      <td>0.149842</td>\n",
       "      <td>True</td>\n",
       "      <td>borzoi</td>\n",
       "      <td>0.133649</td>\n",
       "      <td>True</td>\n",
       "      <td>English_setter</td>\n",
       "    </tr>\n",
       "    <tr>\n",
       "      <th>19</th>\n",
       "      <td>666273097616637952</td>\n",
       "      <td>https://pbs.twimg.com/media/CT8T1mtUwAA3aqm.jpg</td>\n",
       "      <td>1</td>\n",
       "      <td>Italian_greyhound</td>\n",
       "      <td>0.176053</td>\n",
       "      <td>True</td>\n",
       "      <td>toy_terrier</td>\n",
       "      <td>0.111884</td>\n",
       "      <td>True</td>\n",
       "      <td>basenji</td>\n",
       "      <td>0.111152</td>\n",
       "      <td>True</td>\n",
       "      <td>Italian_greyhound</td>\n",
       "    </tr>\n",
       "    <tr>\n",
       "      <th>20</th>\n",
       "      <td>666287406224695296</td>\n",
       "      <td>https://pbs.twimg.com/media/CT8g3BpUEAAuFjg.jpg</td>\n",
       "      <td>1</td>\n",
       "      <td>Maltese_dog</td>\n",
       "      <td>0.857531</td>\n",
       "      <td>True</td>\n",
       "      <td>toy_poodle</td>\n",
       "      <td>0.063064</td>\n",
       "      <td>True</td>\n",
       "      <td>miniature_poodle</td>\n",
       "      <td>0.025581</td>\n",
       "      <td>True</td>\n",
       "      <td>Maltese_dog</td>\n",
       "    </tr>\n",
       "    <tr>\n",
       "      <th>22</th>\n",
       "      <td>666337882303524864</td>\n",
       "      <td>https://pbs.twimg.com/media/CT9OwFIWEAMuRje.jpg</td>\n",
       "      <td>1</td>\n",
       "      <td>ox</td>\n",
       "      <td>0.416669</td>\n",
       "      <td>False</td>\n",
       "      <td>Newfoundland</td>\n",
       "      <td>0.278407</td>\n",
       "      <td>True</td>\n",
       "      <td>groenendael</td>\n",
       "      <td>0.102643</td>\n",
       "      <td>True</td>\n",
       "      <td>Newfoundland</td>\n",
       "    </tr>\n",
       "    <tr>\n",
       "      <th>23</th>\n",
       "      <td>666345417576210432</td>\n",
       "      <td>https://pbs.twimg.com/media/CT9Vn7PWoAA_ZCM.jpg</td>\n",
       "      <td>1</td>\n",
       "      <td>golden_retriever</td>\n",
       "      <td>0.858744</td>\n",
       "      <td>True</td>\n",
       "      <td>Chesapeake_Bay_retriever</td>\n",
       "      <td>0.054787</td>\n",
       "      <td>True</td>\n",
       "      <td>Labrador_retriever</td>\n",
       "      <td>0.014241</td>\n",
       "      <td>True</td>\n",
       "      <td>golden_retriever</td>\n",
       "    </tr>\n",
       "  </tbody>\n",
       "</table>\n",
       "</div>"
      ],
      "text/plain": [
       "              tweet_id                                          jpg_url  \\\n",
       "0   666020888022790149  https://pbs.twimg.com/media/CT4udn0WwAA0aMy.jpg   \n",
       "1   666029285002620928  https://pbs.twimg.com/media/CT42GRgUYAA5iDo.jpg   \n",
       "2   666033412701032449  https://pbs.twimg.com/media/CT4521TWwAEvMyu.jpg   \n",
       "3   666044226329800704  https://pbs.twimg.com/media/CT5Dr8HUEAA-lEu.jpg   \n",
       "4   666049248165822465  https://pbs.twimg.com/media/CT5IQmsXIAAKY4A.jpg   \n",
       "5   666050758794694657  https://pbs.twimg.com/media/CT5Jof1WUAEuVxN.jpg   \n",
       "7   666055525042405380  https://pbs.twimg.com/media/CT5N9tpXIAAifs1.jpg   \n",
       "8   666057090499244032  https://pbs.twimg.com/media/CT5PY90WoAAQGLo.jpg   \n",
       "9   666058600524156928  https://pbs.twimg.com/media/CT5Qw94XAAA_2dP.jpg   \n",
       "10  666063827256086533  https://pbs.twimg.com/media/CT5Vg_wXIAAXfnj.jpg   \n",
       "11  666071193221509120  https://pbs.twimg.com/media/CT5cN_3WEAAlOoZ.jpg   \n",
       "12  666073100786774016  https://pbs.twimg.com/media/CT5d9DZXAAALcwe.jpg   \n",
       "13  666082916733198337  https://pbs.twimg.com/media/CT5m4VGWEAAtKc8.jpg   \n",
       "14  666094000022159362  https://pbs.twimg.com/media/CT5w9gUW4AAsBNN.jpg   \n",
       "15  666099513787052032  https://pbs.twimg.com/media/CT51-JJUEAA6hV8.jpg   \n",
       "16  666102155909144576  https://pbs.twimg.com/media/CT54YGiWUAEZnoK.jpg   \n",
       "19  666273097616637952  https://pbs.twimg.com/media/CT8T1mtUwAA3aqm.jpg   \n",
       "20  666287406224695296  https://pbs.twimg.com/media/CT8g3BpUEAAuFjg.jpg   \n",
       "22  666337882303524864  https://pbs.twimg.com/media/CT9OwFIWEAMuRje.jpg   \n",
       "23  666345417576210432  https://pbs.twimg.com/media/CT9Vn7PWoAA_ZCM.jpg   \n",
       "\n",
       "    img_num                      p1   p1_conf  p1_dog  \\\n",
       "0         1  Welsh_springer_spaniel  0.465074    True   \n",
       "1         1                 redbone  0.506826    True   \n",
       "2         1         German_shepherd  0.596461    True   \n",
       "3         1     Rhodesian_ridgeback  0.408143    True   \n",
       "4         1      miniature_pinscher  0.560311    True   \n",
       "5         1    Bernese_mountain_dog  0.651137    True   \n",
       "7         1                    chow  0.692517    True   \n",
       "8         1           shopping_cart  0.962465   False   \n",
       "9         1        miniature_poodle  0.201493    True   \n",
       "10        1        golden_retriever  0.775930    True   \n",
       "11        1           Gordon_setter  0.503672    True   \n",
       "12        1            Walker_hound  0.260857    True   \n",
       "13        1                     pug  0.489814    True   \n",
       "14        1              bloodhound  0.195217    True   \n",
       "15        1                   Lhasa  0.582330    True   \n",
       "16        1          English_setter  0.298617    True   \n",
       "19        1       Italian_greyhound  0.176053    True   \n",
       "20        1             Maltese_dog  0.857531    True   \n",
       "22        1                      ox  0.416669   False   \n",
       "23        1        golden_retriever  0.858744    True   \n",
       "\n",
       "                          p2   p2_conf  p2_dog                           p3  \\\n",
       "0                     collie  0.156665    True            Shetland_sheepdog   \n",
       "1         miniature_pinscher  0.074192    True          Rhodesian_ridgeback   \n",
       "2                   malinois  0.138584    True                   bloodhound   \n",
       "3                    redbone  0.360687    True           miniature_pinscher   \n",
       "4                 Rottweiler  0.243682    True                     Doberman   \n",
       "5           English_springer  0.263788    True   Greater_Swiss_Mountain_dog   \n",
       "7            Tibetan_mastiff  0.058279    True                     fur_coat   \n",
       "8            shopping_basket  0.014594   False             golden_retriever   \n",
       "9                   komondor  0.192305    True  soft-coated_wheaten_terrier   \n",
       "10           Tibetan_mastiff  0.093718    True           Labrador_retriever   \n",
       "11         Yorkshire_terrier  0.174201    True                     Pekinese   \n",
       "12          English_foxhound  0.175382    True                 Ibizan_hound   \n",
       "13              bull_mastiff  0.404722    True               French_bulldog   \n",
       "14           German_shepherd  0.078260    True                     malinois   \n",
       "15                  Shih-Tzu  0.166192    True               Dandie_Dinmont   \n",
       "16              Newfoundland  0.149842    True                       borzoi   \n",
       "19               toy_terrier  0.111884    True                      basenji   \n",
       "20                toy_poodle  0.063064    True             miniature_poodle   \n",
       "22              Newfoundland  0.278407    True                  groenendael   \n",
       "23  Chesapeake_Bay_retriever  0.054787    True           Labrador_retriever   \n",
       "\n",
       "     p3_conf  p3_dog                   breed  \n",
       "0   0.061428    True  Welsh_springer_spaniel  \n",
       "1   0.072010    True                 redbone  \n",
       "2   0.116197    True         German_shepherd  \n",
       "3   0.222752    True     Rhodesian_ridgeback  \n",
       "4   0.154629    True      miniature_pinscher  \n",
       "5   0.016199    True    Bernese_mountain_dog  \n",
       "7   0.054449   False                    chow  \n",
       "8   0.007959    True        golden_retriever  \n",
       "9   0.082086    True        miniature_poodle  \n",
       "10  0.072427    True        golden_retriever  \n",
       "11  0.109454    True           Gordon_setter  \n",
       "12  0.097471    True            Walker_hound  \n",
       "13  0.048960    True                     pug  \n",
       "14  0.075628    True              bloodhound  \n",
       "15  0.089688    True                   Lhasa  \n",
       "16  0.133649    True          English_setter  \n",
       "19  0.111152    True       Italian_greyhound  \n",
       "20  0.025581    True             Maltese_dog  \n",
       "22  0.102643    True            Newfoundland  \n",
       "23  0.014241    True        golden_retriever  "
      ]
     },
     "execution_count": 107,
     "metadata": {},
     "output_type": "execute_result"
    }
   ],
   "source": [
    "# display updated DataFrame\n",
    "predictions_clean.head(20)"
   ]
  },
  {
   "cell_type": "code",
   "execution_count": 108,
   "id": "3a41a168",
   "metadata": {},
   "outputs": [
    {
     "data": {
      "text/html": [
       "<div>\n",
       "<style scoped>\n",
       "    .dataframe tbody tr th:only-of-type {\n",
       "        vertical-align: middle;\n",
       "    }\n",
       "\n",
       "    .dataframe tbody tr th {\n",
       "        vertical-align: top;\n",
       "    }\n",
       "\n",
       "    .dataframe thead th {\n",
       "        text-align: right;\n",
       "    }\n",
       "</style>\n",
       "<table border=\"1\" class=\"dataframe\">\n",
       "  <thead>\n",
       "    <tr style=\"text-align: right;\">\n",
       "      <th></th>\n",
       "      <th>tweet_id</th>\n",
       "      <th>jpg_url</th>\n",
       "      <th>breed</th>\n",
       "    </tr>\n",
       "  </thead>\n",
       "  <tbody>\n",
       "    <tr>\n",
       "      <th>0</th>\n",
       "      <td>666020888022790149</td>\n",
       "      <td>https://pbs.twimg.com/media/CT4udn0WwAA0aMy.jpg</td>\n",
       "      <td>Welsh_springer_spaniel</td>\n",
       "    </tr>\n",
       "    <tr>\n",
       "      <th>1</th>\n",
       "      <td>666029285002620928</td>\n",
       "      <td>https://pbs.twimg.com/media/CT42GRgUYAA5iDo.jpg</td>\n",
       "      <td>redbone</td>\n",
       "    </tr>\n",
       "    <tr>\n",
       "      <th>2</th>\n",
       "      <td>666033412701032449</td>\n",
       "      <td>https://pbs.twimg.com/media/CT4521TWwAEvMyu.jpg</td>\n",
       "      <td>German_shepherd</td>\n",
       "    </tr>\n",
       "    <tr>\n",
       "      <th>3</th>\n",
       "      <td>666044226329800704</td>\n",
       "      <td>https://pbs.twimg.com/media/CT5Dr8HUEAA-lEu.jpg</td>\n",
       "      <td>Rhodesian_ridgeback</td>\n",
       "    </tr>\n",
       "    <tr>\n",
       "      <th>4</th>\n",
       "      <td>666049248165822465</td>\n",
       "      <td>https://pbs.twimg.com/media/CT5IQmsXIAAKY4A.jpg</td>\n",
       "      <td>miniature_pinscher</td>\n",
       "    </tr>\n",
       "  </tbody>\n",
       "</table>\n",
       "</div>"
      ],
      "text/plain": [
       "             tweet_id                                          jpg_url  \\\n",
       "0  666020888022790149  https://pbs.twimg.com/media/CT4udn0WwAA0aMy.jpg   \n",
       "1  666029285002620928  https://pbs.twimg.com/media/CT42GRgUYAA5iDo.jpg   \n",
       "2  666033412701032449  https://pbs.twimg.com/media/CT4521TWwAEvMyu.jpg   \n",
       "3  666044226329800704  https://pbs.twimg.com/media/CT5Dr8HUEAA-lEu.jpg   \n",
       "4  666049248165822465  https://pbs.twimg.com/media/CT5IQmsXIAAKY4A.jpg   \n",
       "\n",
       "                    breed  \n",
       "0  Welsh_springer_spaniel  \n",
       "1                 redbone  \n",
       "2         German_shepherd  \n",
       "3     Rhodesian_ridgeback  \n",
       "4      miniature_pinscher  "
      ]
     },
     "execution_count": 108,
     "metadata": {},
     "output_type": "execute_result"
    }
   ],
   "source": [
    "#Remove unnecessary columns\n",
    "predictions_clean = predictions_clean.drop(['img_num', 'p1', 'p1_conf', 'p1_dog', 'p2', 'p2_conf', 'p2_dog', 'p3', 'p3_conf', 'p3_dog'], axis = 1)\n",
    "predictions_clean.head()"
   ]
  },
  {
   "cell_type": "markdown",
   "id": "a8e525da",
   "metadata": {},
   "source": [
    "###### column 'breed' some breeds start with upper letter while others start with lower letter, _ split the words in breed"
   ]
  },
  {
   "cell_type": "markdown",
   "id": "73d99550",
   "metadata": {},
   "source": [
    "###### Define\n",
    "Capitalize all first words in column *breed*. Remove *_* between words"
   ]
  },
  {
   "cell_type": "markdown",
   "id": "a44db963",
   "metadata": {},
   "source": [
    "###### Code"
   ]
  },
  {
   "cell_type": "code",
   "execution_count": 109,
   "id": "a9571320",
   "metadata": {},
   "outputs": [],
   "source": [
    "#Capitalize all first words in column breed\n",
    "predictions_clean['breed'] = predictions_clean['breed'].str.capitalize()\n",
    "#Remove _ between words\n",
    "predictions_clean['breed'] = predictions_clean['breed'].str.replace('_', ' ')"
   ]
  },
  {
   "cell_type": "markdown",
   "id": "b94108e0",
   "metadata": {},
   "source": [
    "###### Test"
   ]
  },
  {
   "cell_type": "code",
   "execution_count": 110,
   "id": "4c29a338",
   "metadata": {},
   "outputs": [
    {
     "data": {
      "text/html": [
       "<div>\n",
       "<style scoped>\n",
       "    .dataframe tbody tr th:only-of-type {\n",
       "        vertical-align: middle;\n",
       "    }\n",
       "\n",
       "    .dataframe tbody tr th {\n",
       "        vertical-align: top;\n",
       "    }\n",
       "\n",
       "    .dataframe thead th {\n",
       "        text-align: right;\n",
       "    }\n",
       "</style>\n",
       "<table border=\"1\" class=\"dataframe\">\n",
       "  <thead>\n",
       "    <tr style=\"text-align: right;\">\n",
       "      <th></th>\n",
       "      <th>tweet_id</th>\n",
       "      <th>jpg_url</th>\n",
       "      <th>breed</th>\n",
       "    </tr>\n",
       "  </thead>\n",
       "  <tbody>\n",
       "    <tr>\n",
       "      <th>0</th>\n",
       "      <td>666020888022790149</td>\n",
       "      <td>https://pbs.twimg.com/media/CT4udn0WwAA0aMy.jpg</td>\n",
       "      <td>Welsh springer spaniel</td>\n",
       "    </tr>\n",
       "    <tr>\n",
       "      <th>1</th>\n",
       "      <td>666029285002620928</td>\n",
       "      <td>https://pbs.twimg.com/media/CT42GRgUYAA5iDo.jpg</td>\n",
       "      <td>Redbone</td>\n",
       "    </tr>\n",
       "    <tr>\n",
       "      <th>2</th>\n",
       "      <td>666033412701032449</td>\n",
       "      <td>https://pbs.twimg.com/media/CT4521TWwAEvMyu.jpg</td>\n",
       "      <td>German shepherd</td>\n",
       "    </tr>\n",
       "    <tr>\n",
       "      <th>3</th>\n",
       "      <td>666044226329800704</td>\n",
       "      <td>https://pbs.twimg.com/media/CT5Dr8HUEAA-lEu.jpg</td>\n",
       "      <td>Rhodesian ridgeback</td>\n",
       "    </tr>\n",
       "    <tr>\n",
       "      <th>4</th>\n",
       "      <td>666049248165822465</td>\n",
       "      <td>https://pbs.twimg.com/media/CT5IQmsXIAAKY4A.jpg</td>\n",
       "      <td>Miniature pinscher</td>\n",
       "    </tr>\n",
       "  </tbody>\n",
       "</table>\n",
       "</div>"
      ],
      "text/plain": [
       "             tweet_id                                          jpg_url  \\\n",
       "0  666020888022790149  https://pbs.twimg.com/media/CT4udn0WwAA0aMy.jpg   \n",
       "1  666029285002620928  https://pbs.twimg.com/media/CT42GRgUYAA5iDo.jpg   \n",
       "2  666033412701032449  https://pbs.twimg.com/media/CT4521TWwAEvMyu.jpg   \n",
       "3  666044226329800704  https://pbs.twimg.com/media/CT5Dr8HUEAA-lEu.jpg   \n",
       "4  666049248165822465  https://pbs.twimg.com/media/CT5IQmsXIAAKY4A.jpg   \n",
       "\n",
       "                    breed  \n",
       "0  Welsh springer spaniel  \n",
       "1                 Redbone  \n",
       "2         German shepherd  \n",
       "3     Rhodesian ridgeback  \n",
       "4      Miniature pinscher  "
      ]
     },
     "execution_count": 110,
     "metadata": {},
     "output_type": "execute_result"
    }
   ],
   "source": [
    "#Display first five rows\n",
    "predictions_clean.head()"
   ]
  },
  {
   "cell_type": "markdown",
   "id": "3d1c9e30",
   "metadata": {},
   "source": [
    "###### *tweet_id* column as integer not string"
   ]
  },
  {
   "cell_type": "markdown",
   "id": "b30b2f5f",
   "metadata": {},
   "source": [
    "###### Define\n",
    "Convert 'tweet_id' column from int to str"
   ]
  },
  {
   "cell_type": "markdown",
   "id": "c13928e3",
   "metadata": {},
   "source": [
    "###### Code"
   ]
  },
  {
   "cell_type": "code",
   "execution_count": 111,
   "id": "5bab0c09",
   "metadata": {},
   "outputs": [],
   "source": [
    "#Convert 'tweet_id' column from int to str\n",
    "predictions_clean['tweet_id'] = predictions_clean['tweet_id'].astype(str)"
   ]
  },
  {
   "cell_type": "markdown",
   "id": "4f39f415",
   "metadata": {},
   "source": [
    "###### Test"
   ]
  },
  {
   "cell_type": "code",
   "execution_count": 112,
   "id": "563ab16d",
   "metadata": {},
   "outputs": [
    {
     "name": "stdout",
     "output_type": "stream",
     "text": [
      "<class 'pandas.core.frame.DataFrame'>\n",
      "Int64Index: 1751 entries, 0 to 2073\n",
      "Data columns (total 3 columns):\n",
      " #   Column    Non-Null Count  Dtype \n",
      "---  ------    --------------  ----- \n",
      " 0   tweet_id  1751 non-null   object\n",
      " 1   jpg_url   1751 non-null   object\n",
      " 2   breed     1751 non-null   object\n",
      "dtypes: object(3)\n",
      "memory usage: 54.7+ KB\n"
     ]
    }
   ],
   "source": [
    "#Check if 'tweet_id' column is str\n",
    "predictions_clean.info()"
   ]
  },
  {
   "cell_type": "markdown",
   "id": "bf79da4a",
   "metadata": {},
   "source": [
    "###### column *tweet_id* is named str_id in count dataset"
   ]
  },
  {
   "cell_type": "markdown",
   "id": "ba9288a4",
   "metadata": {},
   "source": [
    "###### Define\n",
    "Change name from str_id to tweet_id in count dataset"
   ]
  },
  {
   "cell_type": "markdown",
   "id": "689df342",
   "metadata": {},
   "source": [
    "###### Code"
   ]
  },
  {
   "cell_type": "code",
   "execution_count": 113,
   "id": "53a75325",
   "metadata": {},
   "outputs": [],
   "source": [
    "#Rename id_str column to tweet_id\n",
    "count_clean.rename({'id_str': 'tweet_id'}, axis=1, inplace=True)"
   ]
  },
  {
   "cell_type": "markdown",
   "id": "a0004371",
   "metadata": {},
   "source": [
    "###### Test"
   ]
  },
  {
   "cell_type": "code",
   "execution_count": 114,
   "id": "5f09dca4",
   "metadata": {},
   "outputs": [
    {
     "name": "stdout",
     "output_type": "stream",
     "text": [
      "<class 'pandas.core.frame.DataFrame'>\n",
      "RangeIndex: 2354 entries, 0 to 2353\n",
      "Data columns (total 3 columns):\n",
      " #   Column          Non-Null Count  Dtype \n",
      "---  ------          --------------  ----- \n",
      " 0   tweet_id        2354 non-null   object\n",
      " 1   retweet_count   2354 non-null   int64 \n",
      " 2   favorite_count  2354 non-null   int64 \n",
      "dtypes: int64(2), object(1)\n",
      "memory usage: 55.3+ KB\n"
     ]
    }
   ],
   "source": [
    "count_clean.info()"
   ]
  },
  {
   "cell_type": "markdown",
   "id": "b618fab5",
   "metadata": {},
   "source": [
    "###### all 3 data sets should be combined in one"
   ]
  },
  {
   "cell_type": "markdown",
   "id": "87d7bb9d",
   "metadata": {},
   "source": [
    "###### Define\n",
    "Merge all three datasets into one master dataset based on tweet_id"
   ]
  },
  {
   "cell_type": "markdown",
   "id": "f0994dc6",
   "metadata": {},
   "source": [
    "###### Code"
   ]
  },
  {
   "cell_type": "code",
   "execution_count": 115,
   "id": "aab3167a",
   "metadata": {},
   "outputs": [
    {
     "name": "stdout",
     "output_type": "stream",
     "text": [
      "<class 'pandas.core.frame.DataFrame'>\n",
      "Int64Index: 2102 entries, 0 to 2101\n",
      "Data columns (total 11 columns):\n",
      " #   Column          Non-Null Count  Dtype              \n",
      "---  ------          --------------  -----              \n",
      " 0   tweet_id        2102 non-null   object             \n",
      " 1   timestamp       2102 non-null   datetime64[ns, UTC]\n",
      " 2   text            2102 non-null   object             \n",
      " 3   expanded_urls   2102 non-null   object             \n",
      " 4   name            2102 non-null   object             \n",
      " 5   stage           346 non-null    object             \n",
      " 6   rating          2102 non-null   float64            \n",
      " 7   jpg_url         1674 non-null   object             \n",
      " 8   breed           1674 non-null   object             \n",
      " 9   retweet_count   2102 non-null   int64              \n",
      " 10  favorite_count  2102 non-null   int64              \n",
      "dtypes: datetime64[ns, UTC](1), float64(1), int64(2), object(7)\n",
      "memory usage: 197.1+ KB\n"
     ]
    }
   ],
   "source": [
    "#Merge all three datasets into one master dataset based on tweet_id\n",
    "master = pd.merge(archive_clean, predictions_clean, how=\"left\", on=[\"tweet_id\"])\n",
    "master = pd.merge(master, count_clean, how=\"left\", on=[\"tweet_id\"])\n",
    "master.info()"
   ]
  },
  {
   "cell_type": "code",
   "execution_count": 116,
   "id": "c4392ad6",
   "metadata": {
    "scrolled": true
   },
   "outputs": [
    {
     "data": {
      "text/html": [
       "<div>\n",
       "<style scoped>\n",
       "    .dataframe tbody tr th:only-of-type {\n",
       "        vertical-align: middle;\n",
       "    }\n",
       "\n",
       "    .dataframe tbody tr th {\n",
       "        vertical-align: top;\n",
       "    }\n",
       "\n",
       "    .dataframe thead th {\n",
       "        text-align: right;\n",
       "    }\n",
       "</style>\n",
       "<table border=\"1\" class=\"dataframe\">\n",
       "  <thead>\n",
       "    <tr style=\"text-align: right;\">\n",
       "      <th></th>\n",
       "      <th>tweet_id</th>\n",
       "      <th>timestamp</th>\n",
       "      <th>text</th>\n",
       "      <th>expanded_urls</th>\n",
       "      <th>name</th>\n",
       "      <th>stage</th>\n",
       "      <th>rating</th>\n",
       "      <th>jpg_url</th>\n",
       "      <th>breed</th>\n",
       "      <th>retweet_count</th>\n",
       "      <th>favorite_count</th>\n",
       "    </tr>\n",
       "  </thead>\n",
       "  <tbody>\n",
       "    <tr>\n",
       "      <th>0</th>\n",
       "      <td>892420643555336193</td>\n",
       "      <td>2017-08-01 16:23:56+00:00</td>\n",
       "      <td>This is Phineas. He's a mystical boy. Only ever appears in the hole of a donut. 13/10 https://t.co/MgUWQ76dJU</td>\n",
       "      <td>https://twitter.com/dog_rates/status/892420643555336193/photo/1</td>\n",
       "      <td>Phineas</td>\n",
       "      <td>NaN</td>\n",
       "      <td>1.3</td>\n",
       "      <td>NaN</td>\n",
       "      <td>NaN</td>\n",
       "      <td>8853</td>\n",
       "      <td>39467</td>\n",
       "    </tr>\n",
       "    <tr>\n",
       "      <th>1</th>\n",
       "      <td>892177421306343426</td>\n",
       "      <td>2017-08-01 00:17:27+00:00</td>\n",
       "      <td>This is Tilly. She's just checking pup on you. Hopes you're doing ok. If not, she's available for pats, snugs, boops, the whole bit. 13/10 https://t.co/0Xxu71qeIV</td>\n",
       "      <td>https://twitter.com/dog_rates/status/892177421306343426/photo/1</td>\n",
       "      <td>Tilly</td>\n",
       "      <td>NaN</td>\n",
       "      <td>1.3</td>\n",
       "      <td>https://pbs.twimg.com/media/DGGmoV4XsAAUL6n.jpg</td>\n",
       "      <td>Chihuahua</td>\n",
       "      <td>6514</td>\n",
       "      <td>33819</td>\n",
       "    </tr>\n",
       "    <tr>\n",
       "      <th>2</th>\n",
       "      <td>891815181378084864</td>\n",
       "      <td>2017-07-31 00:18:03+00:00</td>\n",
       "      <td>This is Archie. He is a rare Norwegian Pouncing Corgo. Lives in the tall grass. You never know when one may strike. 12/10 https://t.co/wUnZnhtVJB</td>\n",
       "      <td>https://twitter.com/dog_rates/status/891815181378084864/photo/1</td>\n",
       "      <td>Archie</td>\n",
       "      <td>NaN</td>\n",
       "      <td>1.2</td>\n",
       "      <td>https://pbs.twimg.com/media/DGBdLU1WsAANxJ9.jpg</td>\n",
       "      <td>Chihuahua</td>\n",
       "      <td>4328</td>\n",
       "      <td>25461</td>\n",
       "    </tr>\n",
       "    <tr>\n",
       "      <th>3</th>\n",
       "      <td>891689557279858688</td>\n",
       "      <td>2017-07-30 15:58:51+00:00</td>\n",
       "      <td>This is Darla. She commenced a snooze mid meal. 13/10 happens to the best of us https://t.co/tD36da7qLQ</td>\n",
       "      <td>https://twitter.com/dog_rates/status/891689557279858688/photo/1</td>\n",
       "      <td>Darla</td>\n",
       "      <td>NaN</td>\n",
       "      <td>1.3</td>\n",
       "      <td>https://pbs.twimg.com/media/DF_q7IAWsAEuuN8.jpg</td>\n",
       "      <td>Labrador retriever</td>\n",
       "      <td>8964</td>\n",
       "      <td>42908</td>\n",
       "    </tr>\n",
       "    <tr>\n",
       "      <th>4</th>\n",
       "      <td>891327558926688256</td>\n",
       "      <td>2017-07-29 16:00:24+00:00</td>\n",
       "      <td>This is Franklin. He would like you to stop calling him \"cute.\" He is a very fierce shark and should be respected as such. 12/10 #BarkWeek https://t.co/AtUZn91f7f</td>\n",
       "      <td>https://twitter.com/dog_rates/status/891327558926688256/photo/1</td>\n",
       "      <td>Franklin</td>\n",
       "      <td>NaN</td>\n",
       "      <td>1.2</td>\n",
       "      <td>https://pbs.twimg.com/media/DF6hr6BUMAAzZgT.jpg</td>\n",
       "      <td>Basset</td>\n",
       "      <td>9774</td>\n",
       "      <td>41048</td>\n",
       "    </tr>\n",
       "    <tr>\n",
       "      <th>5</th>\n",
       "      <td>891087950875897856</td>\n",
       "      <td>2017-07-29 00:08:17+00:00</td>\n",
       "      <td>Here we have a majestic great white breaching off South Africa's coast. Absolutely h*ckin breathtaking. 13/10 (IG: tucker_marlo) #BarkWeek https://t.co/kQ04fDDRmh</td>\n",
       "      <td>https://twitter.com/dog_rates/status/891087950875897856/photo/1</td>\n",
       "      <td>None</td>\n",
       "      <td>NaN</td>\n",
       "      <td>1.3</td>\n",
       "      <td>https://pbs.twimg.com/media/DF3HwyEWsAABqE6.jpg</td>\n",
       "      <td>Chesapeake bay retriever</td>\n",
       "      <td>3261</td>\n",
       "      <td>20562</td>\n",
       "    </tr>\n",
       "    <tr>\n",
       "      <th>6</th>\n",
       "      <td>890971913173991426</td>\n",
       "      <td>2017-07-28 16:27:12+00:00</td>\n",
       "      <td>Meet Jax. He enjoys ice cream so much he gets nervous around it. 13/10 help Jax enjoy more things by clicking below\\n\\nhttps://t.co/Zr4hWfAs1H https://t.co/tVJBRMnhxl</td>\n",
       "      <td>https://gofundme.com/ydvmve-surgery-for-jax</td>\n",
       "      <td>Jax</td>\n",
       "      <td>NaN</td>\n",
       "      <td>1.3</td>\n",
       "      <td>https://pbs.twimg.com/media/DF1eOmZXUAALUcq.jpg</td>\n",
       "      <td>Appenzeller</td>\n",
       "      <td>2158</td>\n",
       "      <td>12041</td>\n",
       "    </tr>\n",
       "    <tr>\n",
       "      <th>7</th>\n",
       "      <td>890729181411237888</td>\n",
       "      <td>2017-07-28 00:22:40+00:00</td>\n",
       "      <td>When you watch your owner call another dog a good boy but then they turn back to you and say you're a great boy. 13/10 https://t.co/v0nONBcwxq</td>\n",
       "      <td>https://twitter.com/dog_rates/status/890729181411237888/photo/1</td>\n",
       "      <td>None</td>\n",
       "      <td>NaN</td>\n",
       "      <td>1.3</td>\n",
       "      <td>https://pbs.twimg.com/media/DFyBahAVwAAhUTd.jpg</td>\n",
       "      <td>Pomeranian</td>\n",
       "      <td>16716</td>\n",
       "      <td>56848</td>\n",
       "    </tr>\n",
       "  </tbody>\n",
       "</table>\n",
       "</div>"
      ],
      "text/plain": [
       "             tweet_id                 timestamp  \\\n",
       "0  892420643555336193 2017-08-01 16:23:56+00:00   \n",
       "1  892177421306343426 2017-08-01 00:17:27+00:00   \n",
       "2  891815181378084864 2017-07-31 00:18:03+00:00   \n",
       "3  891689557279858688 2017-07-30 15:58:51+00:00   \n",
       "4  891327558926688256 2017-07-29 16:00:24+00:00   \n",
       "5  891087950875897856 2017-07-29 00:08:17+00:00   \n",
       "6  890971913173991426 2017-07-28 16:27:12+00:00   \n",
       "7  890729181411237888 2017-07-28 00:22:40+00:00   \n",
       "\n",
       "                                                                                                                                                                     text  \\\n",
       "0                                                           This is Phineas. He's a mystical boy. Only ever appears in the hole of a donut. 13/10 https://t.co/MgUWQ76dJU   \n",
       "1      This is Tilly. She's just checking pup on you. Hopes you're doing ok. If not, she's available for pats, snugs, boops, the whole bit. 13/10 https://t.co/0Xxu71qeIV   \n",
       "2                       This is Archie. He is a rare Norwegian Pouncing Corgo. Lives in the tall grass. You never know when one may strike. 12/10 https://t.co/wUnZnhtVJB   \n",
       "3                                                                 This is Darla. She commenced a snooze mid meal. 13/10 happens to the best of us https://t.co/tD36da7qLQ   \n",
       "4      This is Franklin. He would like you to stop calling him \"cute.\" He is a very fierce shark and should be respected as such. 12/10 #BarkWeek https://t.co/AtUZn91f7f   \n",
       "5      Here we have a majestic great white breaching off South Africa's coast. Absolutely h*ckin breathtaking. 13/10 (IG: tucker_marlo) #BarkWeek https://t.co/kQ04fDDRmh   \n",
       "6  Meet Jax. He enjoys ice cream so much he gets nervous around it. 13/10 help Jax enjoy more things by clicking below\\n\\nhttps://t.co/Zr4hWfAs1H https://t.co/tVJBRMnhxl   \n",
       "7                          When you watch your owner call another dog a good boy but then they turn back to you and say you're a great boy. 13/10 https://t.co/v0nONBcwxq   \n",
       "\n",
       "                                                     expanded_urls      name  \\\n",
       "0  https://twitter.com/dog_rates/status/892420643555336193/photo/1   Phineas   \n",
       "1  https://twitter.com/dog_rates/status/892177421306343426/photo/1     Tilly   \n",
       "2  https://twitter.com/dog_rates/status/891815181378084864/photo/1    Archie   \n",
       "3  https://twitter.com/dog_rates/status/891689557279858688/photo/1     Darla   \n",
       "4  https://twitter.com/dog_rates/status/891327558926688256/photo/1  Franklin   \n",
       "5  https://twitter.com/dog_rates/status/891087950875897856/photo/1      None   \n",
       "6                      https://gofundme.com/ydvmve-surgery-for-jax       Jax   \n",
       "7  https://twitter.com/dog_rates/status/890729181411237888/photo/1      None   \n",
       "\n",
       "  stage  rating                                          jpg_url  \\\n",
       "0   NaN     1.3                                              NaN   \n",
       "1   NaN     1.3  https://pbs.twimg.com/media/DGGmoV4XsAAUL6n.jpg   \n",
       "2   NaN     1.2  https://pbs.twimg.com/media/DGBdLU1WsAANxJ9.jpg   \n",
       "3   NaN     1.3  https://pbs.twimg.com/media/DF_q7IAWsAEuuN8.jpg   \n",
       "4   NaN     1.2  https://pbs.twimg.com/media/DF6hr6BUMAAzZgT.jpg   \n",
       "5   NaN     1.3  https://pbs.twimg.com/media/DF3HwyEWsAABqE6.jpg   \n",
       "6   NaN     1.3  https://pbs.twimg.com/media/DF1eOmZXUAALUcq.jpg   \n",
       "7   NaN     1.3  https://pbs.twimg.com/media/DFyBahAVwAAhUTd.jpg   \n",
       "\n",
       "                      breed  retweet_count  favorite_count  \n",
       "0                       NaN           8853           39467  \n",
       "1                 Chihuahua           6514           33819  \n",
       "2                 Chihuahua           4328           25461  \n",
       "3        Labrador retriever           8964           42908  \n",
       "4                    Basset           9774           41048  \n",
       "5  Chesapeake bay retriever           3261           20562  \n",
       "6               Appenzeller           2158           12041  \n",
       "7                Pomeranian          16716           56848  "
      ]
     },
     "execution_count": 116,
     "metadata": {},
     "output_type": "execute_result"
    }
   ],
   "source": [
    "master.head(8)"
   ]
  },
  {
   "cell_type": "code",
   "execution_count": null,
   "id": "a80fdc54",
   "metadata": {},
   "outputs": [],
   "source": []
  },
  {
   "cell_type": "code",
   "execution_count": null,
   "id": "b990c9f7",
   "metadata": {},
   "outputs": [],
   "source": []
  },
  {
   "cell_type": "code",
   "execution_count": 257,
   "id": "aa7acde2",
   "metadata": {},
   "outputs": [],
   "source": [
    "master.to_csv('C:\\\\Users\\\\averi\\\\OneDrive\\\\Рабочий стол\\\\Data_Analyst\\\\Data Analyst_project 3\\\\deliverables\\\\twitter_archive_master.csv', index = False)"
   ]
  },
  {
   "cell_type": "markdown",
   "id": "72c48582",
   "metadata": {},
   "source": [
    "#### Explanatory analysis"
   ]
  },
  {
   "cell_type": "markdown",
   "id": "b2d2b635",
   "metadata": {},
   "source": [
    "###### What are the relative frequencies in dog stages"
   ]
  },
  {
   "cell_type": "code",
   "execution_count": 184,
   "id": "1b83d989",
   "metadata": {},
   "outputs": [],
   "source": [
    "#Set up styles for the graphs globally\n",
    "sb.set_style('whitegrid') # darkgrid, white grid, dark, white and ticks\n",
    "plt.rc('axes', titlesize=13)     # fontsize of the axes title\n",
    "plt.rc('axes', labelsize=12)    # fontsize of the x and y labels\n",
    "plt.rc('xtick', labelsize=11)    # fontsize of the tick labels\n",
    "plt.rc('ytick', labelsize=11)    # fontsize of the tick labels\n",
    "plt.rc('legend', fontsize=11)    # legend fontsize\n",
    "plt.rc('font', size=12)  "
   ]
  },
  {
   "cell_type": "code",
   "execution_count": 208,
   "id": "09f27353",
   "metadata": {},
   "outputs": [
    {
     "data": {
      "text/html": [
       "\n",
       "<style>\n",
       ".output_png {\n",
       "    display: table-cell;\n",
       "    text-align: center;\n",
       "    vertical-align: middle;\n",
       "}\n",
       "</style>\n"
      ],
      "text/plain": [
       "<IPython.core.display.HTML object>"
      ]
     },
     "execution_count": 208,
     "metadata": {},
     "output_type": "execute_result"
    }
   ],
   "source": [
    "#Align plots to center\n",
    "from IPython.core.display import HTML\n",
    "HTML(\"\"\"\n",
    "<style>\n",
    ".output_png {\n",
    "    display: table-cell;\n",
    "    text-align: center;\n",
    "    vertical-align: middle;\n",
    "}\n",
    "</style>\n",
    "\"\"\")"
   ]
  },
  {
   "cell_type": "code",
   "execution_count": 209,
   "id": "2951e7dc",
   "metadata": {},
   "outputs": [
    {
     "data": {
      "image/png": "[encoded data removed]",
      "text/plain": [
       "<Figure size 864x288 with 1 Axes>"
      ]
     },
     "metadata": {},
     "output_type": "display_data"
    }
   ],
   "source": [
    "#Creation of pie chart\n",
    "plt.figure(figsize=(12, 4), tight_layout=True)\n",
    "sorted_counts = master['stage'].value_counts().rename_axis('unique_values').reset_index(name='counts')\n",
    "plt.pie(sorted_counts['counts'], labels = sorted_counts['unique_values'], startangle = 90, counterclock = False, \n",
    "        colors = sb.color_palette('pastel'), autopct = '%1.0f%%', pctdistance =0.85)\n",
    "plt.title('Relative frequencies in dog stages');"
   ]
  },
  {
   "cell_type": "code",
   "execution_count": 210,
   "id": "b8d845cf",
   "metadata": {},
   "outputs": [
    {
     "name": "stdout",
     "output_type": "stream",
     "text": [
      "<class 'pandas.core.frame.DataFrame'>\n",
      "Int64Index: 1674 entries, 1 to 2101\n",
      "Data columns (total 2 columns):\n",
      " #   Column          Non-Null Count  Dtype \n",
      "---  ------          --------------  ----- \n",
      " 0   breed           1674 non-null   object\n",
      " 1   favorite_count  1674 non-null   int64 \n",
      "dtypes: int64(1), object(1)\n",
      "memory usage: 39.2+ KB\n"
     ]
    }
   ],
   "source": [
    "#Create dataframe with breed and favorite-count columns\n",
    "insight2 = master.filter(['breed', 'favorite_count'], axis=1)\n",
    "#Drop NaN values\n",
    "insight2.dropna(inplace = True)\n",
    "#Check quantity of Null values\n",
    "insight2.info()"
   ]
  },
  {
   "cell_type": "code",
   "execution_count": 211,
   "id": "182c2e9e",
   "metadata": {},
   "outputs": [],
   "source": [
    "#Groupping by breed and calc average favourite count by breed\n",
    "insight2 = insight2.groupby(['breed'])['favorite_count'].mean().reset_index()"
   ]
  },
  {
   "cell_type": "code",
   "execution_count": 212,
   "id": "a3743bac",
   "metadata": {},
   "outputs": [],
   "source": [
    "#Sorting the resulting dataset\n",
    "insight2.sort_values(by='favorite_count', ascending=False, inplace = True)"
   ]
  },
  {
   "cell_type": "code",
   "execution_count": 213,
   "id": "211df12f",
   "metadata": {},
   "outputs": [],
   "source": [
    "#Cut the dataset\n",
    "insight2 = insight2.head(10)"
   ]
  },
  {
   "cell_type": "code",
   "execution_count": 231,
   "id": "461112d3",
   "metadata": {},
   "outputs": [
    {
     "data": {
      "image/png": "[encoded data removed]",
      "text/plain": [
       "<Figure size 864x288 with 1 Axes>"
      ]
     },
     "metadata": {},
     "output_type": "display_data"
    }
   ],
   "source": [
    "#Plot a barchart\n",
    "plt.figure(figsize=(12, 4), tight_layout=True)\n",
    "sb.barplot(data = insight2, x = 'favorite_count', y = 'breed', color = '#33DC7C')\n",
    "xticks = [0,2500,5000,7500,10000,12500,15000,17500,20000,22500,25000]\n",
    "xlabels = [0, '2.5k', '5k', '7.5k', '10k', '12.5k', '15k', '17.5k', '20k', '22.5k', '25k']\n",
    "plt.title('10 most liked breeds of dogs');\n",
    "plt.xlabel('average likes');\n",
    "plt.ylabel('breed')\n",
    "plt.xticks(xticks, xlabels);"
   ]
  },
  {
   "cell_type": "code",
   "execution_count": 226,
   "id": "eee436c7",
   "metadata": {},
   "outputs": [
    {
     "name": "stdout",
     "output_type": "stream",
     "text": [
      "<class 'pandas.core.frame.DataFrame'>\n",
      "Int64Index: 1674 entries, 1 to 2101\n",
      "Data columns (total 2 columns):\n",
      " #   Column  Non-Null Count  Dtype  \n",
      "---  ------  --------------  -----  \n",
      " 0   breed   1674 non-null   object \n",
      " 1   rating  1674 non-null   float64\n",
      "dtypes: float64(1), object(1)\n",
      "memory usage: 39.2+ KB\n"
     ]
    }
   ],
   "source": [
    "#Create dataframe with breed and rating columns\n",
    "insight3 = master.filter(['breed', 'rating'], axis=1)\n",
    "#Drop NaN values\n",
    "insight3.dropna(inplace = True)\n",
    "#Check quantity of Null values\n",
    "insight3.info()"
   ]
  },
  {
   "cell_type": "code",
   "execution_count": 227,
   "id": "ad835843",
   "metadata": {},
   "outputs": [],
   "source": [
    "#Groupping by breed and calc average favourite count by breed\n",
    "insight3 = insight3.groupby(['breed'])['rating'].mean().reset_index()"
   ]
  },
  {
   "cell_type": "code",
   "execution_count": 228,
   "id": "ca97d9c1",
   "metadata": {},
   "outputs": [],
   "source": [
    "#Sort the resulting dataset\n",
    "insight3.sort_values(by='rating', ascending=False, inplace = True)"
   ]
  },
  {
   "cell_type": "code",
   "execution_count": 229,
   "id": "6c271196",
   "metadata": {},
   "outputs": [],
   "source": [
    "#Cut the dataset\n",
    "insight3 = insight3.head(10)\n"
   ]
  },
  {
   "cell_type": "code",
   "execution_count": 232,
   "id": "b35f32a5",
   "metadata": {},
   "outputs": [
    {
     "data": {
      "image/png": "[encoded data removed]",
      "text/plain": [
       "<Figure size 864x288 with 1 Axes>"
      ]
     },
     "metadata": {},
     "output_type": "display_data"
    }
   ],
   "source": [
    "#plot a barchart\n",
    "plt.figure(figsize=(12, 4), tight_layout=True)\n",
    "sb.barplot(data = insight3, x = 'rating', y = 'breed', color = '#33DC7C')\n",
    "plt.title('10 most rated breeds of dogs');\n",
    "plt.xlabel('average rating');\n",
    "plt.ylabel('breed');"
   ]
  },
  {
   "cell_type": "markdown",
   "id": "f58414da",
   "metadata": {},
   "source": [
    "The following sources were used to find solution  \n",
    "- stackoverflow.com\n",
    "- https://www.dataquest.io/blog/tutorial-add-column-pandas-dataframe-based-on-if-else-condition"
   ]
  },
  {
   "cell_type": "code",
   "execution_count": null,
   "id": "786a7793",
   "metadata": {},
   "outputs": [],
   "source": []
  },
  {
   "cell_type": "code",
   "execution_count": null,
   "id": "fb6ace1c",
   "metadata": {},
   "outputs": [],
   "source": []
  },
  {
   "cell_type": "code",
   "execution_count": null,
   "id": "2c4aee3c",
   "metadata": {},
   "outputs": [],
   "source": []
  }
 ],
 "metadata": {
  "kernelspec": {
   "display_name": "Python 3",
   "language": "python",
   "name": "python3"
  },
  "language_info": {
   "codemirror_mode": {
    "name": "ipython",
    "version": 3
   },
   "file_extension": ".py",
   "mimetype": "text/x-python",
   "name": "python",
   "nbconvert_exporter": "python",
   "pygments_lexer": "ipython3",
   "version": "3.8.10"
  }
 },
 "nbformat": 4,
 "nbformat_minor": 5
}
